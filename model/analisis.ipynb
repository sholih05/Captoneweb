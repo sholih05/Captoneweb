{
  "nbformat": 4,
  "nbformat_minor": 0,
  "metadata": {
    "colab": {
      "provenance": []
    },
    "kernelspec": {
      "name": "python3",
      "display_name": "Python 3"
    },
    "language_info": {
      "name": "python"
    }
  },
  "cells": [
    {
      "cell_type": "code",
      "execution_count": null,
      "metadata": {
        "colab": {
          "base_uri": "https://localhost:8080/"
        },
        "id": "WOx-MeX1_3aD",
        "outputId": "73d3839e-0bbf-4c97-d298-16b0e765f0ce"
      },
      "outputs": [
        {
          "output_type": "stream",
          "name": "stdout",
          "text": [
            "Drive already mounted at /content/drive; to attempt to forcibly remount, call drive.mount(\"/content/drive\", force_remount=True).\n"
          ]
        }
      ],
      "source": [
        "from google.colab import drive\n",
        "drive.mount ('/content/drive')"
      ]
    },
    {
      "cell_type": "code",
      "source": [
        "%pip install Sastrawi\n",
        "%pip install google-play-scraper"
      ],
      "metadata": {
        "colab": {
          "base_uri": "https://localhost:8080/"
        },
        "id": "7OyCnK20Aelb",
        "outputId": "88a3bfd2-5038-489f-ce28-c1f02b147f57"
      },
      "execution_count": null,
      "outputs": [
        {
          "output_type": "stream",
          "name": "stdout",
          "text": [
            "Requirement already satisfied: Sastrawi in /usr/local/lib/python3.10/dist-packages (1.0.1)\n",
            "Requirement already satisfied: google-play-scraper in /usr/local/lib/python3.10/dist-packages (1.2.4)\n"
          ]
        }
      ]
    },
    {
      "cell_type": "code",
      "source": [
        "from google_play_scraper import app\n",
        "import pandas as pd\n",
        "import numpy as np"
      ],
      "metadata": {
        "id": "ycyRESSfAmzB"
      },
      "execution_count": null,
      "outputs": []
    },
    {
      "cell_type": "code",
      "source": [
        "from google_play_scraper import Sort, reviews\n",
        "\n",
        "result, continuation_token = reviews(\n",
        "    'com.fws.plantsnap2', # ID = google play\n",
        "    lang='id',\n",
        "    country='id',\n",
        "    sort=Sort.MOST_RELEVANT,\n",
        "    count=200,\n",
        "    filter_score_with= 5 # defaults to None(means all score) Use 1 or 2 or 3 or 4 or 5 to select certain score\n",
        ")"
      ],
      "metadata": {
        "id": "Lp2pfsWfAr1f"
      },
      "execution_count": null,
      "outputs": []
    },
    {
      "cell_type": "code",
      "source": [
        "# Dataframe dengan nama\n",
        "df_ulasan = pd.DataFrame(np.array(result),columns=['review'])\n",
        "df_ulasan = df_ulasan.join(pd.DataFrame(df_ulasan.pop('review').tolist()))\n",
        "df_ulasan.head()"
      ],
      "metadata": {
        "colab": {
          "base_uri": "https://localhost:8080/",
          "height": 660
        },
        "id": "cHm08zDEAuG_",
        "outputId": "40d65328-97f3-4a70-b834-33a26c181281"
      },
      "execution_count": null,
      "outputs": [
        {
          "output_type": "execute_result",
          "data": {
            "text/plain": [
              "                               reviewId         userName  \\\n",
              "0  5060d678-92ec-43ee-be36-b943dd0247ec   Syamsul Arifin   \n",
              "1  5c1519a9-9e31-418b-a9f6-0ec69954909f  Pengguna Google   \n",
              "2  b5aa3dac-e3ed-48b4-8c09-bd665b574a43      Abeng Fariz   \n",
              "3  2db7641a-036d-4ab3-bb7c-5f7c28ac9d87  Pengguna Google   \n",
              "4  2e4eb94f-74a5-4688-9c68-c451ac6f5711  Pengguna Google   \n",
              "\n",
              "                                           userImage  \\\n",
              "0  https://play-lh.googleusercontent.com/a-/ALV-U...   \n",
              "1  https://play-lh.googleusercontent.com/EGemoI2N...   \n",
              "2  https://play-lh.googleusercontent.com/a-/ALV-U...   \n",
              "3  https://play-lh.googleusercontent.com/EGemoI2N...   \n",
              "4  https://play-lh.googleusercontent.com/EGemoI2N...   \n",
              "\n",
              "                                             content  score  thumbsUpCount  \\\n",
              "0         Sangat terbantu dengan adanya aplikasi ini      5              0   \n",
              "1  Saya penjual tanaman hias yang baru memulai us...      5              8   \n",
              "2  Amazing sih ini, keren gila. Saya respectful p...      5             16   \n",
              "3  kalo ada yang bilang ini aplikasi yang tidak b...      5              4   \n",
              "4  aplikasi canggih yang sangatlah membantu buat ...      5              6   \n",
              "\n",
              "  reviewCreatedVersion                  at  \\\n",
              "0                6.2.4 2023-12-11 02:27:05   \n",
              "1                 None 2019-10-11 05:51:13   \n",
              "2              3.00.26 2020-05-19 18:40:06   \n",
              "3                 None 2018-12-16 08:29:17   \n",
              "4              3.00.20 2020-03-12 10:51:08   \n",
              "\n",
              "                                        replyContent           repliedAt  \\\n",
              "0                                               None                 NaT   \n",
              "1  Hello Trisna, Thank you for such valuable feed... 2019-10-11 09:56:45   \n",
              "2                                               None                 NaT   \n",
              "3  Thanks for being a part of PlantSnap! Please w... 2018-12-18 00:42:25   \n",
              "4  Hello Emak, Thanks for being a part of PlantSn... 2020-03-12 12:16:11   \n",
              "\n",
              "  appVersion  \n",
              "0      6.2.4  \n",
              "1       None  \n",
              "2    3.00.26  \n",
              "3       None  \n",
              "4    3.00.20  "
            ],
            "text/html": [
              "\n",
              "  <div id=\"df-c7e86d70-f0b6-4746-a5f4-7bc976b28877\" class=\"colab-df-container\">\n",
              "    <div>\n",
              "<style scoped>\n",
              "    .dataframe tbody tr th:only-of-type {\n",
              "        vertical-align: middle;\n",
              "    }\n",
              "\n",
              "    .dataframe tbody tr th {\n",
              "        vertical-align: top;\n",
              "    }\n",
              "\n",
              "    .dataframe thead th {\n",
              "        text-align: right;\n",
              "    }\n",
              "</style>\n",
              "<table border=\"1\" class=\"dataframe\">\n",
              "  <thead>\n",
              "    <tr style=\"text-align: right;\">\n",
              "      <th></th>\n",
              "      <th>reviewId</th>\n",
              "      <th>userName</th>\n",
              "      <th>userImage</th>\n",
              "      <th>content</th>\n",
              "      <th>score</th>\n",
              "      <th>thumbsUpCount</th>\n",
              "      <th>reviewCreatedVersion</th>\n",
              "      <th>at</th>\n",
              "      <th>replyContent</th>\n",
              "      <th>repliedAt</th>\n",
              "      <th>appVersion</th>\n",
              "    </tr>\n",
              "  </thead>\n",
              "  <tbody>\n",
              "    <tr>\n",
              "      <th>0</th>\n",
              "      <td>5060d678-92ec-43ee-be36-b943dd0247ec</td>\n",
              "      <td>Syamsul Arifin</td>\n",
              "      <td>https://play-lh.googleusercontent.com/a-/ALV-U...</td>\n",
              "      <td>Sangat terbantu dengan adanya aplikasi ini</td>\n",
              "      <td>5</td>\n",
              "      <td>0</td>\n",
              "      <td>6.2.4</td>\n",
              "      <td>2023-12-11 02:27:05</td>\n",
              "      <td>None</td>\n",
              "      <td>NaT</td>\n",
              "      <td>6.2.4</td>\n",
              "    </tr>\n",
              "    <tr>\n",
              "      <th>1</th>\n",
              "      <td>5c1519a9-9e31-418b-a9f6-0ec69954909f</td>\n",
              "      <td>Pengguna Google</td>\n",
              "      <td>https://play-lh.googleusercontent.com/EGemoI2N...</td>\n",
              "      <td>Saya penjual tanaman hias yang baru memulai us...</td>\n",
              "      <td>5</td>\n",
              "      <td>8</td>\n",
              "      <td>None</td>\n",
              "      <td>2019-10-11 05:51:13</td>\n",
              "      <td>Hello Trisna, Thank you for such valuable feed...</td>\n",
              "      <td>2019-10-11 09:56:45</td>\n",
              "      <td>None</td>\n",
              "    </tr>\n",
              "    <tr>\n",
              "      <th>2</th>\n",
              "      <td>b5aa3dac-e3ed-48b4-8c09-bd665b574a43</td>\n",
              "      <td>Abeng Fariz</td>\n",
              "      <td>https://play-lh.googleusercontent.com/a-/ALV-U...</td>\n",
              "      <td>Amazing sih ini, keren gila. Saya respectful p...</td>\n",
              "      <td>5</td>\n",
              "      <td>16</td>\n",
              "      <td>3.00.26</td>\n",
              "      <td>2020-05-19 18:40:06</td>\n",
              "      <td>None</td>\n",
              "      <td>NaT</td>\n",
              "      <td>3.00.26</td>\n",
              "    </tr>\n",
              "    <tr>\n",
              "      <th>3</th>\n",
              "      <td>2db7641a-036d-4ab3-bb7c-5f7c28ac9d87</td>\n",
              "      <td>Pengguna Google</td>\n",
              "      <td>https://play-lh.googleusercontent.com/EGemoI2N...</td>\n",
              "      <td>kalo ada yang bilang ini aplikasi yang tidak b...</td>\n",
              "      <td>5</td>\n",
              "      <td>4</td>\n",
              "      <td>None</td>\n",
              "      <td>2018-12-16 08:29:17</td>\n",
              "      <td>Thanks for being a part of PlantSnap! Please w...</td>\n",
              "      <td>2018-12-18 00:42:25</td>\n",
              "      <td>None</td>\n",
              "    </tr>\n",
              "    <tr>\n",
              "      <th>4</th>\n",
              "      <td>2e4eb94f-74a5-4688-9c68-c451ac6f5711</td>\n",
              "      <td>Pengguna Google</td>\n",
              "      <td>https://play-lh.googleusercontent.com/EGemoI2N...</td>\n",
              "      <td>aplikasi canggih yang sangatlah membantu buat ...</td>\n",
              "      <td>5</td>\n",
              "      <td>6</td>\n",
              "      <td>3.00.20</td>\n",
              "      <td>2020-03-12 10:51:08</td>\n",
              "      <td>Hello Emak, Thanks for being a part of PlantSn...</td>\n",
              "      <td>2020-03-12 12:16:11</td>\n",
              "      <td>3.00.20</td>\n",
              "    </tr>\n",
              "  </tbody>\n",
              "</table>\n",
              "</div>\n",
              "    <div class=\"colab-df-buttons\">\n",
              "\n",
              "  <div class=\"colab-df-container\">\n",
              "    <button class=\"colab-df-convert\" onclick=\"convertToInteractive('df-c7e86d70-f0b6-4746-a5f4-7bc976b28877')\"\n",
              "            title=\"Convert this dataframe to an interactive table.\"\n",
              "            style=\"display:none;\">\n",
              "\n",
              "  <svg xmlns=\"http://www.w3.org/2000/svg\" height=\"24px\" viewBox=\"0 -960 960 960\">\n",
              "    <path d=\"M120-120v-720h720v720H120Zm60-500h600v-160H180v160Zm220 220h160v-160H400v160Zm0 220h160v-160H400v160ZM180-400h160v-160H180v160Zm440 0h160v-160H620v160ZM180-180h160v-160H180v160Zm440 0h160v-160H620v160Z\"/>\n",
              "  </svg>\n",
              "    </button>\n",
              "\n",
              "  <style>\n",
              "    .colab-df-container {\n",
              "      display:flex;\n",
              "      gap: 12px;\n",
              "    }\n",
              "\n",
              "    .colab-df-convert {\n",
              "      background-color: #E8F0FE;\n",
              "      border: none;\n",
              "      border-radius: 50%;\n",
              "      cursor: pointer;\n",
              "      display: none;\n",
              "      fill: #1967D2;\n",
              "      height: 32px;\n",
              "      padding: 0 0 0 0;\n",
              "      width: 32px;\n",
              "    }\n",
              "\n",
              "    .colab-df-convert:hover {\n",
              "      background-color: #E2EBFA;\n",
              "      box-shadow: 0px 1px 2px rgba(60, 64, 67, 0.3), 0px 1px 3px 1px rgba(60, 64, 67, 0.15);\n",
              "      fill: #174EA6;\n",
              "    }\n",
              "\n",
              "    .colab-df-buttons div {\n",
              "      margin-bottom: 4px;\n",
              "    }\n",
              "\n",
              "    [theme=dark] .colab-df-convert {\n",
              "      background-color: #3B4455;\n",
              "      fill: #D2E3FC;\n",
              "    }\n",
              "\n",
              "    [theme=dark] .colab-df-convert:hover {\n",
              "      background-color: #434B5C;\n",
              "      box-shadow: 0px 1px 3px 1px rgba(0, 0, 0, 0.15);\n",
              "      filter: drop-shadow(0px 1px 2px rgba(0, 0, 0, 0.3));\n",
              "      fill: #FFFFFF;\n",
              "    }\n",
              "  </style>\n",
              "\n",
              "    <script>\n",
              "      const buttonEl =\n",
              "        document.querySelector('#df-c7e86d70-f0b6-4746-a5f4-7bc976b28877 button.colab-df-convert');\n",
              "      buttonEl.style.display =\n",
              "        google.colab.kernel.accessAllowed ? 'block' : 'none';\n",
              "\n",
              "      async function convertToInteractive(key) {\n",
              "        const element = document.querySelector('#df-c7e86d70-f0b6-4746-a5f4-7bc976b28877');\n",
              "        const dataTable =\n",
              "          await google.colab.kernel.invokeFunction('convertToInteractive',\n",
              "                                                    [key], {});\n",
              "        if (!dataTable) return;\n",
              "\n",
              "        const docLinkHtml = 'Like what you see? Visit the ' +\n",
              "          '<a target=\"_blank\" href=https://colab.research.google.com/notebooks/data_table.ipynb>data table notebook</a>'\n",
              "          + ' to learn more about interactive tables.';\n",
              "        element.innerHTML = '';\n",
              "        dataTable['output_type'] = 'display_data';\n",
              "        await google.colab.output.renderOutput(dataTable, element);\n",
              "        const docLink = document.createElement('div');\n",
              "        docLink.innerHTML = docLinkHtml;\n",
              "        element.appendChild(docLink);\n",
              "      }\n",
              "    </script>\n",
              "  </div>\n",
              "\n",
              "\n",
              "<div id=\"df-ab51dbae-161e-4943-91b4-87a6084650f5\">\n",
              "  <button class=\"colab-df-quickchart\" onclick=\"quickchart('df-ab51dbae-161e-4943-91b4-87a6084650f5')\"\n",
              "            title=\"Suggest charts\"\n",
              "            style=\"display:none;\">\n",
              "\n",
              "<svg xmlns=\"http://www.w3.org/2000/svg\" height=\"24px\"viewBox=\"0 0 24 24\"\n",
              "     width=\"24px\">\n",
              "    <g>\n",
              "        <path d=\"M19 3H5c-1.1 0-2 .9-2 2v14c0 1.1.9 2 2 2h14c1.1 0 2-.9 2-2V5c0-1.1-.9-2-2-2zM9 17H7v-7h2v7zm4 0h-2V7h2v10zm4 0h-2v-4h2v4z\"/>\n",
              "    </g>\n",
              "</svg>\n",
              "  </button>\n",
              "\n",
              "<style>\n",
              "  .colab-df-quickchart {\n",
              "      --bg-color: #E8F0FE;\n",
              "      --fill-color: #1967D2;\n",
              "      --hover-bg-color: #E2EBFA;\n",
              "      --hover-fill-color: #174EA6;\n",
              "      --disabled-fill-color: #AAA;\n",
              "      --disabled-bg-color: #DDD;\n",
              "  }\n",
              "\n",
              "  [theme=dark] .colab-df-quickchart {\n",
              "      --bg-color: #3B4455;\n",
              "      --fill-color: #D2E3FC;\n",
              "      --hover-bg-color: #434B5C;\n",
              "      --hover-fill-color: #FFFFFF;\n",
              "      --disabled-bg-color: #3B4455;\n",
              "      --disabled-fill-color: #666;\n",
              "  }\n",
              "\n",
              "  .colab-df-quickchart {\n",
              "    background-color: var(--bg-color);\n",
              "    border: none;\n",
              "    border-radius: 50%;\n",
              "    cursor: pointer;\n",
              "    display: none;\n",
              "    fill: var(--fill-color);\n",
              "    height: 32px;\n",
              "    padding: 0;\n",
              "    width: 32px;\n",
              "  }\n",
              "\n",
              "  .colab-df-quickchart:hover {\n",
              "    background-color: var(--hover-bg-color);\n",
              "    box-shadow: 0 1px 2px rgba(60, 64, 67, 0.3), 0 1px 3px 1px rgba(60, 64, 67, 0.15);\n",
              "    fill: var(--button-hover-fill-color);\n",
              "  }\n",
              "\n",
              "  .colab-df-quickchart-complete:disabled,\n",
              "  .colab-df-quickchart-complete:disabled:hover {\n",
              "    background-color: var(--disabled-bg-color);\n",
              "    fill: var(--disabled-fill-color);\n",
              "    box-shadow: none;\n",
              "  }\n",
              "\n",
              "  .colab-df-spinner {\n",
              "    border: 2px solid var(--fill-color);\n",
              "    border-color: transparent;\n",
              "    border-bottom-color: var(--fill-color);\n",
              "    animation:\n",
              "      spin 1s steps(1) infinite;\n",
              "  }\n",
              "\n",
              "  @keyframes spin {\n",
              "    0% {\n",
              "      border-color: transparent;\n",
              "      border-bottom-color: var(--fill-color);\n",
              "      border-left-color: var(--fill-color);\n",
              "    }\n",
              "    20% {\n",
              "      border-color: transparent;\n",
              "      border-left-color: var(--fill-color);\n",
              "      border-top-color: var(--fill-color);\n",
              "    }\n",
              "    30% {\n",
              "      border-color: transparent;\n",
              "      border-left-color: var(--fill-color);\n",
              "      border-top-color: var(--fill-color);\n",
              "      border-right-color: var(--fill-color);\n",
              "    }\n",
              "    40% {\n",
              "      border-color: transparent;\n",
              "      border-right-color: var(--fill-color);\n",
              "      border-top-color: var(--fill-color);\n",
              "    }\n",
              "    60% {\n",
              "      border-color: transparent;\n",
              "      border-right-color: var(--fill-color);\n",
              "    }\n",
              "    80% {\n",
              "      border-color: transparent;\n",
              "      border-right-color: var(--fill-color);\n",
              "      border-bottom-color: var(--fill-color);\n",
              "    }\n",
              "    90% {\n",
              "      border-color: transparent;\n",
              "      border-bottom-color: var(--fill-color);\n",
              "    }\n",
              "  }\n",
              "</style>\n",
              "\n",
              "  <script>\n",
              "    async function quickchart(key) {\n",
              "      const quickchartButtonEl =\n",
              "        document.querySelector('#' + key + ' button');\n",
              "      quickchartButtonEl.disabled = true;  // To prevent multiple clicks.\n",
              "      quickchartButtonEl.classList.add('colab-df-spinner');\n",
              "      try {\n",
              "        const charts = await google.colab.kernel.invokeFunction(\n",
              "            'suggestCharts', [key], {});\n",
              "      } catch (error) {\n",
              "        console.error('Error during call to suggestCharts:', error);\n",
              "      }\n",
              "      quickchartButtonEl.classList.remove('colab-df-spinner');\n",
              "      quickchartButtonEl.classList.add('colab-df-quickchart-complete');\n",
              "    }\n",
              "    (() => {\n",
              "      let quickchartButtonEl =\n",
              "        document.querySelector('#df-ab51dbae-161e-4943-91b4-87a6084650f5 button');\n",
              "      quickchartButtonEl.style.display =\n",
              "        google.colab.kernel.accessAllowed ? 'block' : 'none';\n",
              "    })();\n",
              "  </script>\n",
              "</div>\n",
              "    </div>\n",
              "  </div>\n"
            ]
          },
          "metadata": {},
          "execution_count": 39
        }
      ]
    },
    {
      "cell_type": "code",
      "source": [
        "\n",
        "\n",
        "df_ulasan[['content', 'score']].head()\n",
        "\n"
      ],
      "metadata": {
        "colab": {
          "base_uri": "https://localhost:8080/",
          "height": 206
        },
        "id": "RwAoer2iAy6Q",
        "outputId": "6f3eb213-3455-48e7-a87e-6428753c199e"
      },
      "execution_count": null,
      "outputs": [
        {
          "output_type": "execute_result",
          "data": {
            "text/plain": [
              "                                             content  score\n",
              "0         Sangat terbantu dengan adanya aplikasi ini      5\n",
              "1  Saya penjual tanaman hias yang baru memulai us...      5\n",
              "2  Amazing sih ini, keren gila. Saya respectful p...      5\n",
              "3  kalo ada yang bilang ini aplikasi yang tidak b...      5\n",
              "4  aplikasi canggih yang sangatlah membantu buat ...      5"
            ],
            "text/html": [
              "\n",
              "  <div id=\"df-2e42904f-198a-4dcc-bbeb-9c3a00bb6995\" class=\"colab-df-container\">\n",
              "    <div>\n",
              "<style scoped>\n",
              "    .dataframe tbody tr th:only-of-type {\n",
              "        vertical-align: middle;\n",
              "    }\n",
              "\n",
              "    .dataframe tbody tr th {\n",
              "        vertical-align: top;\n",
              "    }\n",
              "\n",
              "    .dataframe thead th {\n",
              "        text-align: right;\n",
              "    }\n",
              "</style>\n",
              "<table border=\"1\" class=\"dataframe\">\n",
              "  <thead>\n",
              "    <tr style=\"text-align: right;\">\n",
              "      <th></th>\n",
              "      <th>content</th>\n",
              "      <th>score</th>\n",
              "    </tr>\n",
              "  </thead>\n",
              "  <tbody>\n",
              "    <tr>\n",
              "      <th>0</th>\n",
              "      <td>Sangat terbantu dengan adanya aplikasi ini</td>\n",
              "      <td>5</td>\n",
              "    </tr>\n",
              "    <tr>\n",
              "      <th>1</th>\n",
              "      <td>Saya penjual tanaman hias yang baru memulai us...</td>\n",
              "      <td>5</td>\n",
              "    </tr>\n",
              "    <tr>\n",
              "      <th>2</th>\n",
              "      <td>Amazing sih ini, keren gila. Saya respectful p...</td>\n",
              "      <td>5</td>\n",
              "    </tr>\n",
              "    <tr>\n",
              "      <th>3</th>\n",
              "      <td>kalo ada yang bilang ini aplikasi yang tidak b...</td>\n",
              "      <td>5</td>\n",
              "    </tr>\n",
              "    <tr>\n",
              "      <th>4</th>\n",
              "      <td>aplikasi canggih yang sangatlah membantu buat ...</td>\n",
              "      <td>5</td>\n",
              "    </tr>\n",
              "  </tbody>\n",
              "</table>\n",
              "</div>\n",
              "    <div class=\"colab-df-buttons\">\n",
              "\n",
              "  <div class=\"colab-df-container\">\n",
              "    <button class=\"colab-df-convert\" onclick=\"convertToInteractive('df-2e42904f-198a-4dcc-bbeb-9c3a00bb6995')\"\n",
              "            title=\"Convert this dataframe to an interactive table.\"\n",
              "            style=\"display:none;\">\n",
              "\n",
              "  <svg xmlns=\"http://www.w3.org/2000/svg\" height=\"24px\" viewBox=\"0 -960 960 960\">\n",
              "    <path d=\"M120-120v-720h720v720H120Zm60-500h600v-160H180v160Zm220 220h160v-160H400v160Zm0 220h160v-160H400v160ZM180-400h160v-160H180v160Zm440 0h160v-160H620v160ZM180-180h160v-160H180v160Zm440 0h160v-160H620v160Z\"/>\n",
              "  </svg>\n",
              "    </button>\n",
              "\n",
              "  <style>\n",
              "    .colab-df-container {\n",
              "      display:flex;\n",
              "      gap: 12px;\n",
              "    }\n",
              "\n",
              "    .colab-df-convert {\n",
              "      background-color: #E8F0FE;\n",
              "      border: none;\n",
              "      border-radius: 50%;\n",
              "      cursor: pointer;\n",
              "      display: none;\n",
              "      fill: #1967D2;\n",
              "      height: 32px;\n",
              "      padding: 0 0 0 0;\n",
              "      width: 32px;\n",
              "    }\n",
              "\n",
              "    .colab-df-convert:hover {\n",
              "      background-color: #E2EBFA;\n",
              "      box-shadow: 0px 1px 2px rgba(60, 64, 67, 0.3), 0px 1px 3px 1px rgba(60, 64, 67, 0.15);\n",
              "      fill: #174EA6;\n",
              "    }\n",
              "\n",
              "    .colab-df-buttons div {\n",
              "      margin-bottom: 4px;\n",
              "    }\n",
              "\n",
              "    [theme=dark] .colab-df-convert {\n",
              "      background-color: #3B4455;\n",
              "      fill: #D2E3FC;\n",
              "    }\n",
              "\n",
              "    [theme=dark] .colab-df-convert:hover {\n",
              "      background-color: #434B5C;\n",
              "      box-shadow: 0px 1px 3px 1px rgba(0, 0, 0, 0.15);\n",
              "      filter: drop-shadow(0px 1px 2px rgba(0, 0, 0, 0.3));\n",
              "      fill: #FFFFFF;\n",
              "    }\n",
              "  </style>\n",
              "\n",
              "    <script>\n",
              "      const buttonEl =\n",
              "        document.querySelector('#df-2e42904f-198a-4dcc-bbeb-9c3a00bb6995 button.colab-df-convert');\n",
              "      buttonEl.style.display =\n",
              "        google.colab.kernel.accessAllowed ? 'block' : 'none';\n",
              "\n",
              "      async function convertToInteractive(key) {\n",
              "        const element = document.querySelector('#df-2e42904f-198a-4dcc-bbeb-9c3a00bb6995');\n",
              "        const dataTable =\n",
              "          await google.colab.kernel.invokeFunction('convertToInteractive',\n",
              "                                                    [key], {});\n",
              "        if (!dataTable) return;\n",
              "\n",
              "        const docLinkHtml = 'Like what you see? Visit the ' +\n",
              "          '<a target=\"_blank\" href=https://colab.research.google.com/notebooks/data_table.ipynb>data table notebook</a>'\n",
              "          + ' to learn more about interactive tables.';\n",
              "        element.innerHTML = '';\n",
              "        dataTable['output_type'] = 'display_data';\n",
              "        await google.colab.output.renderOutput(dataTable, element);\n",
              "        const docLink = document.createElement('div');\n",
              "        docLink.innerHTML = docLinkHtml;\n",
              "        element.appendChild(docLink);\n",
              "      }\n",
              "    </script>\n",
              "  </div>\n",
              "\n",
              "\n",
              "<div id=\"df-f3897a6f-8d6a-4c0f-a4c7-2fc0f4e755c6\">\n",
              "  <button class=\"colab-df-quickchart\" onclick=\"quickchart('df-f3897a6f-8d6a-4c0f-a4c7-2fc0f4e755c6')\"\n",
              "            title=\"Suggest charts\"\n",
              "            style=\"display:none;\">\n",
              "\n",
              "<svg xmlns=\"http://www.w3.org/2000/svg\" height=\"24px\"viewBox=\"0 0 24 24\"\n",
              "     width=\"24px\">\n",
              "    <g>\n",
              "        <path d=\"M19 3H5c-1.1 0-2 .9-2 2v14c0 1.1.9 2 2 2h14c1.1 0 2-.9 2-2V5c0-1.1-.9-2-2-2zM9 17H7v-7h2v7zm4 0h-2V7h2v10zm4 0h-2v-4h2v4z\"/>\n",
              "    </g>\n",
              "</svg>\n",
              "  </button>\n",
              "\n",
              "<style>\n",
              "  .colab-df-quickchart {\n",
              "      --bg-color: #E8F0FE;\n",
              "      --fill-color: #1967D2;\n",
              "      --hover-bg-color: #E2EBFA;\n",
              "      --hover-fill-color: #174EA6;\n",
              "      --disabled-fill-color: #AAA;\n",
              "      --disabled-bg-color: #DDD;\n",
              "  }\n",
              "\n",
              "  [theme=dark] .colab-df-quickchart {\n",
              "      --bg-color: #3B4455;\n",
              "      --fill-color: #D2E3FC;\n",
              "      --hover-bg-color: #434B5C;\n",
              "      --hover-fill-color: #FFFFFF;\n",
              "      --disabled-bg-color: #3B4455;\n",
              "      --disabled-fill-color: #666;\n",
              "  }\n",
              "\n",
              "  .colab-df-quickchart {\n",
              "    background-color: var(--bg-color);\n",
              "    border: none;\n",
              "    border-radius: 50%;\n",
              "    cursor: pointer;\n",
              "    display: none;\n",
              "    fill: var(--fill-color);\n",
              "    height: 32px;\n",
              "    padding: 0;\n",
              "    width: 32px;\n",
              "  }\n",
              "\n",
              "  .colab-df-quickchart:hover {\n",
              "    background-color: var(--hover-bg-color);\n",
              "    box-shadow: 0 1px 2px rgba(60, 64, 67, 0.3), 0 1px 3px 1px rgba(60, 64, 67, 0.15);\n",
              "    fill: var(--button-hover-fill-color);\n",
              "  }\n",
              "\n",
              "  .colab-df-quickchart-complete:disabled,\n",
              "  .colab-df-quickchart-complete:disabled:hover {\n",
              "    background-color: var(--disabled-bg-color);\n",
              "    fill: var(--disabled-fill-color);\n",
              "    box-shadow: none;\n",
              "  }\n",
              "\n",
              "  .colab-df-spinner {\n",
              "    border: 2px solid var(--fill-color);\n",
              "    border-color: transparent;\n",
              "    border-bottom-color: var(--fill-color);\n",
              "    animation:\n",
              "      spin 1s steps(1) infinite;\n",
              "  }\n",
              "\n",
              "  @keyframes spin {\n",
              "    0% {\n",
              "      border-color: transparent;\n",
              "      border-bottom-color: var(--fill-color);\n",
              "      border-left-color: var(--fill-color);\n",
              "    }\n",
              "    20% {\n",
              "      border-color: transparent;\n",
              "      border-left-color: var(--fill-color);\n",
              "      border-top-color: var(--fill-color);\n",
              "    }\n",
              "    30% {\n",
              "      border-color: transparent;\n",
              "      border-left-color: var(--fill-color);\n",
              "      border-top-color: var(--fill-color);\n",
              "      border-right-color: var(--fill-color);\n",
              "    }\n",
              "    40% {\n",
              "      border-color: transparent;\n",
              "      border-right-color: var(--fill-color);\n",
              "      border-top-color: var(--fill-color);\n",
              "    }\n",
              "    60% {\n",
              "      border-color: transparent;\n",
              "      border-right-color: var(--fill-color);\n",
              "    }\n",
              "    80% {\n",
              "      border-color: transparent;\n",
              "      border-right-color: var(--fill-color);\n",
              "      border-bottom-color: var(--fill-color);\n",
              "    }\n",
              "    90% {\n",
              "      border-color: transparent;\n",
              "      border-bottom-color: var(--fill-color);\n",
              "    }\n",
              "  }\n",
              "</style>\n",
              "\n",
              "  <script>\n",
              "    async function quickchart(key) {\n",
              "      const quickchartButtonEl =\n",
              "        document.querySelector('#' + key + ' button');\n",
              "      quickchartButtonEl.disabled = true;  // To prevent multiple clicks.\n",
              "      quickchartButtonEl.classList.add('colab-df-spinner');\n",
              "      try {\n",
              "        const charts = await google.colab.kernel.invokeFunction(\n",
              "            'suggestCharts', [key], {});\n",
              "      } catch (error) {\n",
              "        console.error('Error during call to suggestCharts:', error);\n",
              "      }\n",
              "      quickchartButtonEl.classList.remove('colab-df-spinner');\n",
              "      quickchartButtonEl.classList.add('colab-df-quickchart-complete');\n",
              "    }\n",
              "    (() => {\n",
              "      let quickchartButtonEl =\n",
              "        document.querySelector('#df-f3897a6f-8d6a-4c0f-a4c7-2fc0f4e755c6 button');\n",
              "      quickchartButtonEl.style.display =\n",
              "        google.colab.kernel.accessAllowed ? 'block' : 'none';\n",
              "    })();\n",
              "  </script>\n",
              "</div>\n",
              "    </div>\n",
              "  </div>\n"
            ]
          },
          "metadata": {},
          "execution_count": 40
        }
      ]
    },
    {
      "cell_type": "code",
      "source": [
        "my_ulasan = df_ulasan[['content', 'score']]"
      ],
      "metadata": {
        "id": "uqkLuAd7A9Mj"
      },
      "execution_count": null,
      "outputs": []
    },
    {
      "cell_type": "code",
      "source": [
        "\n",
        "\n",
        "my_ulasan.to_csv(\"riliv-rating5.csv\", index = False)\n",
        "\n"
      ],
      "metadata": {
        "id": "-ivW7Jq_A3Dq"
      },
      "execution_count": null,
      "outputs": []
    },
    {
      "cell_type": "code",
      "source": [
        "%ls"
      ],
      "metadata": {
        "colab": {
          "base_uri": "https://localhost:8080/"
        },
        "id": "ILJ8gEiFD6eR",
        "outputId": "5f166a4a-a7f6-49e2-eddc-bdbf1da8d58b"
      },
      "execution_count": null,
      "outputs": [
        {
          "output_type": "stream",
          "name": "stdout",
          "text": [
            "\u001b[0m\u001b[01;34mdrive\u001b[0m/  ratingAll.csv  riliv-rating1.csv  riliv-rating3.csv  riliv-rating5.csv  \u001b[01;34msample_data\u001b[0m/\n"
          ]
        }
      ]
    },
    {
      "cell_type": "code",
      "source": [
        "df_rating5 = pd.read_csv(\"riliv-rating5.csv\")\n",
        "df_rating3 = pd.read_csv(\"riliv-rating3.csv\")\n",
        "df_rating1 = pd.read_csv(\"riliv-rating1.csv\")"
      ],
      "metadata": {
        "id": "G-C8o02AEfRr"
      },
      "execution_count": null,
      "outputs": []
    },
    {
      "cell_type": "code",
      "source": [
        "df_ratingAll = pd.concat([df_rating5,df_rating3,df_rating1])"
      ],
      "metadata": {
        "id": "smnlaWKyEjn1"
      },
      "execution_count": null,
      "outputs": []
    },
    {
      "cell_type": "code",
      "source": [
        "len(df_ratingAll)"
      ],
      "metadata": {
        "colab": {
          "base_uri": "https://localhost:8080/"
        },
        "id": "7eLmd16BEm5C",
        "outputId": "a5bee9a9-b9b4-4827-a103-bdf7de0be503"
      },
      "execution_count": null,
      "outputs": [
        {
          "output_type": "execute_result",
          "data": {
            "text/plain": [
              "420"
            ]
          },
          "metadata": {},
          "execution_count": 46
        }
      ]
    },
    {
      "cell_type": "code",
      "source": [
        "\n",
        "\n",
        "df_ratingAll.to_csv(\"ratingAll.csv\", index = False)\n",
        "\n"
      ],
      "metadata": {
        "id": "sZG0CL_lEqmJ"
      },
      "execution_count": null,
      "outputs": []
    },
    {
      "cell_type": "code",
      "source": [
        "import pandas as pd\n",
        "import re\n",
        "import nltk\n",
        "from nltk.tokenize import word_tokenize\n",
        "from Sastrawi.StopWordRemover.StopWordRemoverFactory import StopWordRemoverFactory\n",
        "from Sastrawi.Stemmer.StemmerFactory import StemmerFactory\n",
        "from sklearn.feature_extraction.text import CountVectorizer\n",
        "from sklearn.model_selection import train_test_split\n",
        "from sklearn.neighbors import KNeighborsClassifier\n",
        "\n",
        "\n",
        "# Load the dataset\n",
        "dframe = pd.read_csv(\"ratingAll.csv\")"
      ],
      "metadata": {
        "id": "gubsjiYQEvob"
      },
      "execution_count": null,
      "outputs": []
    },
    {
      "cell_type": "code",
      "source": [
        "# Case Folding\n",
        "data_casefolded = dframe['content'].str.lower()"
      ],
      "metadata": {
        "id": "RtAjYFkvE6AS"
      },
      "execution_count": null,
      "outputs": []
    },
    {
      "cell_type": "code",
      "source": [
        "# Filtering\n",
        "def filter_text(text):\n",
        "    text = re.sub(r'https?://\\S+|www\\.\\S+', ' ', text)  # Remove URLs\n",
        "    text = re.sub(r'\\(cont\\)', ' ', text)  # Remove continuations\n",
        "    text = re.sub(r'[!\"”#$%&’()*+,-./:;<=>?@[\\]^_`{|}~]', ' ', text)  # Remove punctuation\n",
        "    text = re.sub(r'#\\S+', '', text)  # Remove hashtags\n",
        "    text = re.sub(r'\\d+', ' ', text)  # Remove numbers\n",
        "    return text\n",
        "\n",
        "data_filtered = data_casefolded.apply(filter_text)"
      ],
      "metadata": {
        "id": "-KCnMGL9FBT5"
      },
      "execution_count": null,
      "outputs": []
    },
    {
      "cell_type": "code",
      "source": [
        "# Tokenization\n",
        "nltk.download('punkt')\n",
        "data_tokenized = data_filtered.apply(word_tokenize)\n",
        "\n",
        "print(data_tokenized)"
      ],
      "metadata": {
        "colab": {
          "base_uri": "https://localhost:8080/"
        },
        "id": "WEFqxiu7FE3R",
        "outputId": "c9ee780c-6d0d-42b2-9e57-06b867695dc7"
      },
      "execution_count": null,
      "outputs": [
        {
          "output_type": "stream",
          "name": "stdout",
          "text": [
            "0      [sangat, terbantu, dengan, adanya, aplikasi, ini]\n",
            "1      [saya, penjual, tanaman, hias, yang, baru, mem...\n",
            "2      [amazing, sih, ini, keren, gila, saya, respect...\n",
            "3      [kalo, ada, yang, bilang, ini, aplikasi, yang,...\n",
            "4      [aplikasi, canggih, yang, sangatlah, membantu,...\n",
            "                             ...                        \n",
            "415                               [out, of, expectation]\n",
            "416                                      [sering, salah]\n",
            "417                                           [ga, tahu]\n",
            "418                                       [tidak, keren]\n",
            "419                                             [mantep]\n",
            "Name: content, Length: 420, dtype: object\n"
          ]
        },
        {
          "output_type": "stream",
          "name": "stderr",
          "text": [
            "[nltk_data] Downloading package punkt to /root/nltk_data...\n",
            "[nltk_data]   Package punkt is already up-to-date!\n"
          ]
        }
      ]
    },
    {
      "cell_type": "code",
      "source": [
        "# Stopword Removal\n",
        "factory = StopWordRemoverFactory()\n",
        "stopword_list = factory.get_stop_words()\n",
        "\n",
        "def remove_stopwords(tokens):\n",
        "    return [word for word in tokens if word not in stopword_list and len(word) > 3]\n",
        "\n",
        "data_no_stopwords = data_tokenized.apply(remove_stopwords)\n",
        "\n",
        "print(data_no_stopwords)"
      ],
      "metadata": {
        "colab": {
          "base_uri": "https://localhost:8080/"
        },
        "id": "OXfaJHi_FIDS",
        "outputId": "f32be539-6fb8-4585-adb4-8e218307c139"
      },
      "execution_count": null,
      "outputs": [
        {
          "output_type": "stream",
          "name": "stdout",
          "text": [
            "0                   [sangat, terbantu, adanya, aplikasi]\n",
            "1      [penjual, tanaman, hias, baru, memulai, usaha,...\n",
            "2      [amazing, keren, gila, respectful, developer, ...\n",
            "3      [kalo, bilang, aplikasi, berguna, mohon, pikir...\n",
            "4      [aplikasi, canggih, sangatlah, membantu, buat,...\n",
            "                             ...                        \n",
            "415                                        [expectation]\n",
            "416                                      [sering, salah]\n",
            "417                                               [tahu]\n",
            "418                                              [keren]\n",
            "419                                             [mantep]\n",
            "Name: content, Length: 420, dtype: object\n"
          ]
        }
      ]
    },
    {
      "cell_type": "code",
      "source": [
        "path_dataslang = open(\"/content/drive/MyDrive/Analisis Sentimen/kamus.csv\")\n",
        "dataslang = pd.read_csv(path_dataslang, encoding = 'utf-8', header=None, sep=\";\")\n",
        "\n",
        "def replaceSlang(word):\n",
        "  if word in list(dataslang[0]):\n",
        "    indexslang = list(dataslang[0]).index(word)\n",
        "    return dataslang[1][indexslang]\n",
        "  else:\n",
        "    return word\n",
        "\n",
        "ulasan_formal = []\n",
        "for data in data_no_stopwords:\n",
        "  data_clean = [replaceSlang(word) for word in data]\n",
        "  ulasan_formal.append(data_clean)\n",
        "len_ulasan_formal = len(ulasan_formal)\n",
        "print(ulasan_formal)\n",
        "len_ulasan_formal"
      ],
      "metadata": {
        "colab": {
          "base_uri": "https://localhost:8080/"
        },
        "id": "kOl14Nv2FPsi",
        "outputId": "fe38b949-0598-4cdb-a31a-bb48287bfc94"
      },
      "execution_count": null,
      "outputs": [
        {
          "output_type": "stream",
          "name": "stdout",
          "text": [
            "[['sangat', 'terbantu', 'adanya', 'aplikasi'], ['penjual', 'tanaman', 'hias', 'baru', 'memulai', 'usaha', 'awalnya', 'sangat', 'bingung', 'keringat', 'persatu', 'nama', 'tanaman', 'berbelanja', 'tanaman', 'menjualnya', 'mengenal', 'nama', 'lalu', 'coba', 'mencari', 'cari', 'aplikasinya', 'alhamdulillah', 'menemukan', 'disini', 'sekarang', 'perlu', 'bingung', 'mengaktifkan', 'kamera', 'mengarahkan', 'tanaman', 'tahu', 'terimakasih', 'plant', 'snap'], ['amazing', 'keren', 'gila', 'respectful', 'developer', 'terus', 'dikembangkan', 'jangan', 'patah', 'semangat', 'menyelaraskan', 'alam', 'teknologi', 'beli', 'premium', 'salam', 'lestari'], ['kalau', 'bilang', 'aplikasi', 'berguna', 'mohon', 'pikir', 'jangan', 'mengandalkan', 'aplikasi', 'global', 'menganalisa', 'disekitar', 'tinggal', 'diindonesia', 'menggunakan', 'aplikasi', 'berjalan', 'sesuai', 'harapan', 'sepenuhnya', 'bukan', 'kesalahan', 'aplikasi', 'ingat', 'keberagaman', 'bahasa', 'indonesia', 'membuat', 'analisa', 'nama', 'jenis', 'tumbuhan', 'aplikasi', 'sepenuhnya', 'sama', 'nama', 'jenis', 'tumbuhan', 'didaerah'], ['aplikasi', 'canggih', 'sangatlah', 'membantu', 'buat', 'terkhusus', 'anak', 'anak', 'lebih', 'cepat', 'mengetahui', 'jenis', 'tanaman', 'pastinya', 'memberikan', 'tambahan', 'ilmu', 'sangatlah', 'berguna', 'pengetahuan'], ['aplikasi', 'sensor', 'detektor', 'tanaman', 'sangat', 'membantu', 'memudahkan', 'segalanya', 'khususnya', 'mengenal', 'mempelajari', 'menjelajah', 'banyak', 'kehiduoan', 'disekitar', 'kita🙏'], ['aplikasinya', 'bagus', 'banget', 'sangat', 'membantu', 'mahasiswa', 'biologi'], ['suka', 'banget', 'aplikasi', 'menemukan', 'profil', 'lengkap', 'tanaman', 'disekitar', 'terima', 'kasih'], ['identifikasi', 'berarti', 'kamera', 'burik'], ['mempermudah', 'pengenalan', 'tanaman', 'tempat', 'terima', 'kasih'], ['memuaskan', 'perlu', 'tingkatan', 'durasi', 'pngambilan', 'gambarnya', 'terimakasih'], ['aplikasi', 'sangat', 'bagus', 'ingin', 'banget', 'langganan', 'premium', 'good', 'luck'], ['sangat', 'mudah', 'membantu', 'kebutuhan', 'nama', 'tanaman', 'koleksi', 'trmkasih'], ['koleksinya', 'kurang', 'banyak', 'banyak', 'terditeksi'], ['menggunakan', 'aplikasi', 'asli', 'pohon', 'pohon', 'memakainya', 'memenuhi', 'kebutuhan', 'hidup', 'semakin', 'lama', 'semakin', 'jangkau', 'mahal', 'kuat'], ['sangat', 'membantu', 'buat', 'pencinta', 'tanaman'], ['sangat', 'membantu', 'jadi', 'lebih', 'mudah', 'membuat', 'tugas', 'laproan', 'tumbuhan', 'obat', 'alhamdulilah', 'nilai', 'farmasi', 'jadi', 'lebih', 'baik'], ['bagus', 'sekali', 'tempatku', 'jauh', 'kota', 'jaringan', 'kupakai'], ['aplikasi', 'belajar', 'tanaman', 'terimakasih', 'semua'], ['membantu', 'banget', 'buat', 'cari', 'tanaman', 'sekarang', 'fiture', 'sosmednya', 'keren'], ['bagus', 'sesuai', 'foto', 'nama', 'tanamannya'], ['sangat', 'membantu', 'buat', 'klasifikasi', 'tanaman'], ['baik', 'gembira', 'mengenali', 'tumbuh', 'tumbuhan', 'manfaatnya', 'terima', 'kasih', 'salam', 'hornat'], ['sangat', 'jernih', 'fokus', 'keren'], ['sangat', 'membantu', 'mengindentifikasi', 'tanaman'], ['apknya', 'sangat', 'membantu', 'sekali', 'buat', 'referensi'], ['aplikasi', 'sangat', 'bermanfaat', 'terimakasih', 'sukses'], ['apps', 'mntap', 'lebih', 'bayak', 'wawasan', 'mengenal', 'nama', 'tumbuhun'], ['suka', 'banget', 'yaampun', 'perlu', 'khawatir', 'kalau', 'ditanyain', 'nenek', 'tanaman', 'terlalu', 'jadi', 'pakai', 'segalanya', 'mudah', 'begini', 'terimakasih', 'luv❣️'], ['mantaf', 'aplikasi', 'membantu', 'mengenali', 'tumbuhan', 'bahasa', 'ilmiah', 'yamg', 'mendunka'], ['aplikasi', 'bagus', 'kalau', 'main', 'hutan', 'lebih', 'asyik', 'sepertinya'], ['adanya', 'apikasi', 'pegetahuan', 'tanaman', 'bunga', 'pohon', 'semakin', 'bertambah'], ['langsung', 'bintang', 'mudah', 'mudah', 'bagus'], ['mohon', 'tingkatkan', 'kecepatan', 'tinggi'], ['keren', 'habis', 'kameranya', 'mantap', 'benar'], ['sangat', 'membantu', 'mengidentifikasi', 'tumbuhan', 'sekolah'], ['sangat', 'bermanfaat', 'membantu', 'mahasiswa', 'pertanian', 'mengenal', 'tanaman', 'disekitar', 'dketahui', 'nama', 'latin', 'deskripsinya'], ['sangat', 'bagus', 'tranfer', 'dana', 'semua', 'mudah'], ['bagus', 'menambah', 'pengetahuan', 'dunia', 'tanaman'], ['aplikasi', 'sangat', 'membantu', 'khususnya', 'pecinta', 'sains'], ['sangat', 'bermanfaat', 'lebih', 'mengenal', 'tumbuhan', 'amin'], ['aplikasi', 'cerdas', 'penggemar', 'tanaman'], ['terimakasih', 'plansnap', 'semoga', 'aplikasi', 'berguna', 'bantu', 'banyak', 'penguna', 'mengintifikasih', 'berbagai', 'tumbuhan', 'liar', 'alam', 'kegunaan', 'manfaat', 'tepat'], ['bagus', 'aplikasi', 'free', 'membantu', 'pembelajaran', 'tanaman'], ['aplikasia', 'sangat', 'bagus', 'pertama', 'pikir', 'aplikasi', 'goblok', 'ternyata', 'sangat', 'bagus', 'terima', 'kasih'], ['mntap', 'harp', 'screnshot', 'simpan', 'komposisinya'], ['suka', 'aplikasi', 'membantu', 'mengenal', 'lebih', 'jauh', 'mahluk', 'ciptaan', 'tuhan'], ['aplikasi', 'sangat', 'bermanfaat', 'semua', 'orang'], ['semoga', 'bermampat', 'biasanya', 'tugas', 'sekolah👍'], ['sangat', 'bermanfaat', 'akurasi', 'tinggi'], ['sangat', 'membantu', 'mengetahui', 'jenis', 'tumbuhan'], ['hebat', 'sangat', 'membntu', 'pengetahuan', 'nama', 'tumbuhn'], ['simpel', 'cukup', 'menghibur'], ['sangat', 'membantu', 'suka', 'sekali'], ['mantap', 'coba'], ['bagus', 'ealau', 'kadang', 'salah', 'tali', 'kesalahnnya', 'sedikit'], ['informasi', 'sangat', 'membantu'], ['aplikasi', 'sangat', 'membantu', 'mengidentifikasi', 'jenis', 'nama', 'tanaman'], ['melalui', 'aplikasi', 'memudahkan', 'mengidentifikasi', 'nama', 'latin', 'bunga'], ['mengenal', 'tanaman', 'lebih', 'akurat'], ['bagus', 'tingkatkan'], ['bagus', 'sangat', 'ilmiah'], ['opsi', 'pelajaran', 'biologi', 'tambahan'], ['bersyukur', 'adanya', 'aplikasi', 'menambah', 'pengeyahuan'], ['trimaksih', 'semoga', 'bermanfaat', 'semua'], ['dangan', 'bermanfaat', 'ditingkatkan'], ['sangat', 'membantu', 'terimakasih'], ['lumayan', 'bagus', 'aplikasinya😀😀😀😀'], ['sangat', 'membantu', 'pecinta', 'botani'], ['sangat', 'membantu', 'rekomendasi'], ['bagus', 'sangat', 'membantu'], ['keren', 'fakta', 'hasilnya'], ['dahsyat', 'deh', 'kasih'], ['aplikasi', 'sangat', 'bermanfaat'], ['inspiratif', 'banget', 'aplikasi'], ['mantap', 'sangat', 'membantu'], ['keren', 'banget', 'terimakasih', 'eksplorasi', 'alam', 'ciptaan', 'allah', 'semakin', 'seru'], ['keren', 'sangat', 'membantu'], ['pakai', 'mengerti'], ['iklan', 'kurangi'], ['sangat', 'membantu', 'terimakasih'], ['sangat', 'membantu', 'mengetahui', 'nama', 'tanaman'], ['sangat', 'sangat', 'sangat', 'bermanfaat'], ['okayy', 'deh', 'mudah', 'mengenali', 'tanaman'], ['baru', 'dicoba', 'bagaimana', 'hasilnya', 'nanti', 'dikomen', 'deh'], ['bagus', 'sekali', 'mantap'], ['baru', 'downloads'], ['sangat', 'membantu'], ['usul', 'tanaman', 'herbal', 'biar', 'ketahui'], ['sangat', 'membantu'], ['sangat', 'bermanfaat'], ['sangat', 'bermanfaat', 'tenk'], ['sangat', 'bermanfaat'], ['sangat', 'bagus'], ['sangat', 'menarik'], ['sangat', 'membantu'], ['sangat', 'membantu'], ['bagus', 'nama', 'nama', 'pohon'], ['sangat', 'membantu'], ['sangat', 'membantu'], ['sangat', 'bermanfaat'], ['sangat', 'membantu'], ['aplikasi', 'hebat'], ['sangat', 'membantu'], ['plantsnap', 'sangat', 'membantu', 'sekarang', 'baik', 'daripada', 'sebelumnya'], ['mengenali', 'nama', 'bermacam', 'macam', 'tanaman'], ['sangat', 'bagus'], ['dicoba'], ['bagus', 'kembangkan', 'terus'], ['sangat', 'berguna'], ['sangat', 'membntu'], ['coba', 'dulu'], ['banyak', 'membantu'], ['patut', 'coba'], ['membantu', 'mengenal', 'tanaman'], ['buat', 'mengetaui', 'jenis', 'tanaman'], ['sangat', 'membatu'], ['berguna', 'banget'], ['semoga', 'bermanfaat'], ['coba', 'besok', 'pagi'], ['bantu', 'analisa', 'tanaman'], ['mantap'], ['menambah', 'pengetahuan'], ['baik', 'sekali'], ['suka', 'sekali'], [], ['amazing'], [], ['canggih'], ['bagus'], ['sangat', 'fast'], ['sangat', 'good'], ['mantap'], ['asyik'], ['seperti', 'this', 'aplication'], ['terimakasih', 'much', 'creator', 'this', 'really', 'appreciate', 'this', 'that', 'bantu', 'pakai', 'herbarium', 'assignment', 'thankyou', 'much'], ['sangat', 'praktis'], ['valuable', 'useful'], ['sip'], ['helps', 'identify', 'many', 'species', 'plants', 'although', 'still', 'missidentification', 'presents', 'what', 'difference', 'between', 'this', 'version', 'with', 'version', 'version', 'more', 'accurate', 'then', 'free', 'version'], ['keren'], ['awesome'], ['amazind'], ['good', 'experience'], ['good'], ['bring', 'stars', 'this', 'plant', 'snap', 'apps', 'forward', 'will', 'terimakasih', 'xiaomi', 'officials', 'lthanks', 'plants', 'snap', 'because', 'your', 'apps', 'sangat', 'manis', 'terbaik', 'apps'], [], ['bagos'], ['terima', 'kasih'], ['apiiikkkk', 'toopppp'], [], ['terimakasih', 'pakai', 'project', 'success'], ['good'], [], ['mantap'], ['bagus'], ['muaskan'], ['good'], [], ['bagus'], [], [], ['sangat', 'bagus'], ['keren'], ['mangthaabb'], ['good'], ['manis'], ['terima', 'kasih', 'sangat', 'bermanfaat'], ['mantap'], ['mantapss'], [], ['perfect'], ['jos'], ['vvbbb'], ['bagus'], ['good👍👍👍👍i', 'love'], ['good'], [], ['sip'], ['sangat', 'bernanfaat'], ['bintang', '🤝🏾🙏🙏💞'], ['manis'], [], ['keren'], ['good'], ['wooo'], [], ['good'], [], ['sangat', 'manis', 'sangat', 'good'], [], [], ['langsung', 'mengasih', 'enggak', 'wkwkw'], ['jos'], ['dulu'], ['mantap'], ['mantap'], ['keren', 'deh'], ['terbaik'], ['bagus'], ['aplikasi', 'bagus', 'perlu', 'disempurnakan', 'maksimal', 'akurasi', 'kultur', 'jaringan', 'bimbang', 'menentukan', 'nama', 'jenis', 'tumbuhan', 'terimakasih', 'tunggu', 'penyrmpurnaannya'], ['aplikasi', 'bagus', 'nama', 'tanaman', 'saran', 'kalau', 'tambahkan', 'fungsi', 'tanaman', 'misalnya', 'buat', 'obat', 'makan', 'mungkin', 'beracun'], ['mencobanya', 'puas', 'kerena', 'tumbuhan', 'didepan', 'rumah', 'scan', 'lewat', 'plantsnap', 'ternyata', 'memberi', 'penjelasan', 'mendapatkan', 'hasil'], ['sangat', 'membantu', 'menambah', 'pengetahuan', 'tumbuh', 'tumbuhan', 'bunga'], ['analisa', 'salah', 'paling', 'mengesalkan', 'selalu', 'meminta', 'diupdate', 'menghabiskan', 'waktu', 'quota'], ['aplikasinya', 'bagus', 'diperbaiki', 'biar', 'lebih', 'baik', 'disukai', 'banyak', 'orang'], ['banyak', 'perlu', 'ppenyempurnaan', 'masak', 'daun', 'telinga', 'katakan', 'pisang', 'heheh', 'iklanya', 'membuat', 'risih'], ['kurang', 'akurat', 'banyak', 'salah', 'mencoba', 'buat', 'identifikasi', 'beberapa', 'kali', 'namu', 'keliru'], ['cukup', 'membantu', 'memahami', 'bunga'], ['bagus', 'tlong', 'tampilkan', 'dengan', 'rinci', 'kegunaan', 'tanaman', 'biar', 'lebih', 'bermanfaat'], ['iklannya', 'sangat', 'mengganggu'], ['kurang', 'kameranya', 'menghampiri'], ['mendeteksi', 'tepat', 'uninst'], ['baru', 'pasang', 'aplikadi', 'jadi', 'lihat', 'dulu', 'kalau', 'bagus', 'tambah', 'bintangnya'], ['harap', 'kali', 'lebih', 'rinci', 'aplikasi', 'snap', 'binatang'], ['kadang', 'tepat', 'kadang', 'banyak', 'tepatnya'], ['mengidentifikasi', 'tanaman', 'liar', 'pakai', 'premium'], ['dong', 'kasih', 'nama', 'umum', 'jangan', 'nama', 'latinnya', 'doang'], ['lumayan', 'membantu', 'akurat'], ['baru', 'install', 'hasilnya', 'bagus', 'tambah', 'bintangnya'], ['sangat', 'membantu', 'identifikasi', 'bunga', 'tanaman', 'kenal'], ['baru', 'instal', 'bagus', 'beri', 'bintang'], ['semoga', 'bermanfaat', 'jangan', 'boros', 'kuota'], ['dulu', 'nanti', 'kalau', 'bagus', 'ditambah'], ['coba', 'dulu', 'kalau', 'ribet', 'bayar', 'tambah', 'bintang', '⭐⭐⭐⭐'], ['nama', 'indonesia'], ['lumayan', 'bagus', 'kurang', 'akurat'], ['kadang', 'tumbuhan', 'sesuai'], ['kasih', 'bintang', 'kalau', 'bagus', 'tamba', 'bintangnya'], ['indonesia'], ['coba', 'dulu', 'bagus', 'kasih', 'bintang'], ['bravo', 'tingkatkan', 'sangat', 'bguna', 'buat', 'generasi', 'sekarang', 'datang'], ['kasih', 'betul', 'bagus', 'baru', 'kasih', 'bintang'], ['dulu', 'nanti', 'tambah'], ['dulu', 'good', 'baru'], ['kurang', 'mengidentifikasi', 'tanaman'], ['dulu', 'bagus', 'tambahkan'], ['guru', 'biologi', 'cocok', 'banget'], ['lumayan', 'bagusnya'], ['sangat', 'membantu'], ['coba', 'aplikasinya'], ['tingkatkn'], ['baru', 'kenal', 'jadi', 'kasih', 'bintang', 'dulu'], ['lumayan', 'bagus'], ['coba', 'dulu'], ['baru', 'dimulai', 'mulai', 'sekarang'], ['kocak', 'poto', 'kontol', 'keluar', 'jamur'], ['kasih', 'bintang', 'dulu'], ['semoga', 'bagus'], ['bagus', 'sekali'], ['kasih', 'dulu'], ['bintang', 'dulu'], ['coba', 'dulu', 'terimakasih'], ['coba', 'dulu'], ['coba'], ['dicoba', 'dulu'], ['semoga', 'bermanfaat'], ['coba', 'dulu'], [], ['kurang', 'akurat'], ['upload', 'pictures', 'when', 'open', 'quota', 'photo', 'before', 'take', 'gambar'], ['forceclose', 'phone', 'asus', 'zenfone'], ['cukup', 'bagus'], ['bintang', 'disik'], ['after', 'update', 'sangat', 'long', 'waktu', 'result'], ['memang'], [], ['coba', 'dulu'], ['mencoba', 'dulu'], ['bagus'], ['bagus'], ['kurang', 'cepat'], ['kurang', 'jelas'], [], ['coba', 'dulu'], [], ['translate', 'bahasa', 'indonesianya', 'deskripsi', 'tanamannya', 'menu', 'berandanya', 'berbahasa', 'indonesia'], ['coba', 'dulu', 'bagus', 'tambah', 'bintang'], ['baru', 'coba', 'kalau', 'pertahankan', 'kalau', 'hapus', 'xixixixxixi'], ['coba', 'hela', 'alus'], ['pernah', 'lihat'], ['biasa'], ['lihat'], ['sangat', 'suka'], ['coba', 'dulu'], ['coba'], ['baru', 'coba'], ['coba', 'dulu'], [], ['coba', 'dulu'], ['mencoba'], [], [], ['coba'], ['good'], ['cukuo'], ['netral'], ['mantapbetul'], ['bagus'], ['lumayan'], ['terimakasih'], ['ranting', 'besar', 'sorry', 'coba', 'mendeteksi', 'beberapa', 'tumbuhan', 'hasilnya', 'tepat', 'sama', 'sekali', 'perbaiki'], ['pengembang', 'perlu', 'penelitian', 'lebih', 'rinci', 'bintang', 'cvkup', 'usaha', 'luar', 'biasa', 'coba', 'keakuratan', 'salah'], ['akurat', 'jauh', 'hasil', 'foto', 'sama', 'nama', 'latinnya', 'ataupun', 'lokal', 'banyak', 'menyambung'], ['kira', 'bukan', 'solusi', 'baik', 'tambah', 'pusing', 'coba', 'perbarui', 'lebih', 'baik', 'identifikasi', 'tanamannya'], ['mencoba', 'dikasih', 'kesempatan', 'foto', 'kali', 'semuanya', 'foto', 'tanaman', 'berbeda', 'sayang', 'akurat', 'mohon', 'diperbaiki'], ['ulasan', 'hasil', 'sama', 'selesai', 'penginstalan', 'lalu', 'buka', 'lalu', 'blank', 'hitam', 'nubia', 'lite'], ['baru', 'mencoba', 'tanaman', 'malah', 'putar', 'terus', 'selesai', 'coba', 'malah', 'katanya', 'jatah'], ['sangat', 'menyesal', 'banget', 'aplikasi', 'jelas', 'banget', 'dong', 'batalin', 'soalnya', 'gunakan', 'mengikuti', 'banyak', 'petunjuk', 'tetap', 'gunain', 'aplikasi'], ['lambat', 'meminta', 'ampun', 'malah', 'cepat', 'cari', 'browsing', 'nama', 'lokal', 'terdetek'], ['aduh', 'premium', 'jadi', 'malah', 'salah', 'diteksi', 'nama', 'menyesal', 'premium'], ['coba', 'lima', 'jenis', 'tanaman', 'berbeda', 'semuanya', 'salah', 'identifikasi', 'program', 'perlu', 'penyempurnaan', 'berat'], ['aplikasi', 'diperbaiki', 'jangankan', 'mendeteksi', 'tanaman', 'klik', 'mempan'], ['aplikasi', 'berguna', 'sampah', 'salah', 'identifikasi', 'fatal', 'deteksinya', 'jangan', 'donlot🤢🤮😠'], ['terpaksa', 'uninstal', 'foto', 'tanaman', 'cabe', 'tidakpeduli', 'keluar', 'terus', 'foto', 'tanaman', 'bawang', 'keluar', 'tanaman', 'lidah', 'buaya', 'haha', 'aplikasi', 'tolollllllllll', 'wkwkwkwk'], ['aplikasi', 'bagaimana', 'akurat', 'sama', 'sekali', 'coba', 'bolak', 'balik', 'tetap', 'keliru', 'namanya'], ['keren', 'banget', 'sebelumnya', 'enggaktau', 'bentuk', 'tomat', 'seperti', 'bagaimana', 'berkat', 'aplikasi', 'jadi', 'membedakan', 'tomat', 'cabai'], ['aplikas', 'bodoh', 'sesuai', 'sama', 'sekali', 'jenis', 'identifikasi', 'maaf', 'langsung', 'hapus'], ['percuma', 'download', 'foto', 'tumbuhan', 'benar', 'lalu', 'fungsi', 'aplikasi', 'masak', 'foto', 'pohon', 'singkong', 'jawabanya', 'entah', 'pohon', 'padahal', 'ruas', 'pohon', 'daun', 'jelas', 'pohon'], ['tidak', 'didownload', 'dipakek', 'terjadi', 'kesalahan', 'terus', 'terusan'], ['kurang', 'akurat', 'foto', 'pohon', 'kurma', 'mendeteksi', 'akurat'], ['indentifikasi', 'terlalu', 'lama', 'akurat'], ['mengidentifikasi', 'tahu', 'nama', 'tumbuhan', 'coba', 'kasih', 'jawaban'], ['kenapa', 'digunakan', 'redmi', 'mohon', 'pencerahannya'], ['maaf', 'terlalu', 'sombong', 'judul', 'ternyata', 'akurat', 'sama', 'sekali', 'silakan', 'coba', 'penasaran', 'biar', 'dusta', 'menyesal', 'wkwkwkwkw'], ['kali', 'semua', 'akurat', 'padahal', 'kangkung', 'labu', 'cabai', 'gulma', 'semua', 'valid'], ['waduh', 'paham', 'jenis', 'tumbuhan', 'tanaman', 'kenal', 'jelas', 'salah', 'mengidentifikasikan', 'mohon', 'perbaiki', 'terima', 'kasih🙏'], ['ambil', 'gambar', 'disuruhnya', 'coba', 'sama', 'delet'], ['aplikasi', 'bagus', 'mengetahui', 'ragam', 'jenis', 'tanaman', 'sayang', 'hapus', 'aplikasi', 'akurat'], ['baru', 'tadi', 'mencoba', 'identifikasi', 'hasilnya', 'sangat', 'jauh', 'berbeda☹️☹️☹️'], ['banyak', 'salah', 'mengidentifikasi', 'kurang', 'referensi', 'banyak', 'dimasukan', 'jenis', 'tanaman'], ['kasih', 'jangan', 'download', 'buka', 'diduga', 'pakai', 'data', 'data', 'jancok'], ['membantu', 'ketik', 'nama', 'sesuai', 'prediksi', 'baru', 'tadinya', 'kasih', 'bintang', 'ternyata', 'dijebak', 'kasih', 'bintang', 'baru', 'posting', 'komentar'], ['tingkat', 'akurasinya', 'rendah'], ['bahaya', 'jangan', 'download', 'kena', 'root'], ['apalikasi', 'buka', 'menghabiskan', 'kuota'], ['hari', 'masuk', 'hutan', 'sedikit', 'perbendaharaan', 'pohon'], ['aplikasi', 'anjing', 'lumayan', 'ganti', 'aplikasi', 'buat', 'jenis', 'anjing', 'biar', 'diri', 'kalau', 'memang', 'bakat', 'buat', 'cari', 'jenis', 'tanaman'], ['lama', 'kali', 'indentifikasinya', 'padahal', 'cuma', 'bawang', 'bombay', 'dikupas', 'kulit', 'kuningnya'], ['cocok', 'buat', 'hobi', 'menonton', 'iklan'], ['bagus', 'banget', 'banyak', 'iklan', 'jadi', 'seru', 'anjing'], ['aplikasi', 'bodoh', 'paling', 'bodoh', 'sedunia', 'abal', 'abal', 'mendefenisi', 'jenis', 'bunga', 'daun', 'pohon'], ['paling', 'jelek', 'mudah', 'boongin', 'jujur', 'penipu', 'penipu', 'penipu', 'penipu', 'sorry', 'lupa', 'buang', 'gamutu', 'lebihbagus', 'kamera', 'nokia', 'jadul'], ['aplikasi', 'sangat', 'kecewa', 'download', 'aplikasi'], ['akurat', 'semua', 'salah', 'mengenal', 'jenis', 'tanaman', 'jauh', 'semputna'], ['anjay', 'baru', 'kemarin', 'diupdate', 'hari', 'update'], ['aplikasi', 'kurang', 'bagus', 'akurat'], ['loading', 'lama'], ['sesuai', 'banget', 'daun', 'bougenvil', 'deskripsikan', 'daun', 'cabai', 'rawit', 'daun', 'pucuk', 'merah', 'dikira', 'daun', 'brbagai', 'spesies', 'bamboo'], ['perlu', 'daun', 'jambu', 'rumah', 'dibilang', 'jshe'], ['identifikasi', 'tepat'], ['foto', 'rumput', 'depan', 'rumah', 'malah', 'keluar', 'gambar', 'tanaman', 'enceng', 'gondok'], ['aplikasi', 'mala', 'menyesatkan', 'banyak', 'salah', 'mengidentifikasi', 'tumbuhan', 'kecewa'], ['aplikasi', 'abal', 'abal', 'selalu', 'keliru', 'mengidentifikasi', 'tanaman'], ['kurang', 'bagus', 'masa', 'foto', 'daun', 'kelor', 'keluar', 'penjelasannya', 'tanaman'], ['akurat', 'mendingan', 'jangan', 'pakai'], ['payah', 'ngawur', 'akurat', 'sama', 'sekali'], ['jatahnya', 'potret', 'uninstall'], ['banyak', 'kekurangannya'], ['kurang', 'bermanfaat', 'membantu'], ['mamfaat', 'plantsnap', 'mengetahui'], ['wkwkwkwk', 'apknya', 'selalu', 'salah', 'jawab'], ['mohon', 'maaf', 'atas', 'ketidak', 'sesuaian', 'nama', 'tumbuhan', 'tersebut', 'anjinggggg', 'goblokkkk', 'ashhuuuuu', 'nyeselll', 'sudah', 'downloadd', 'muterrrrrrrrr', 'teroossssss', 'selesai'], ['jelekkkkkk', 'banget', 'ujung', 'ujungnya', 'meminta', 'bayar'], ['keren', 'jadi', 'bedanya', 'sawi', 'sama', 'bayam'], ['aplikasi', 'eggk', 'benar'], ['kontil', 'foto', 'bunga', 'bougenville', 'keluar', 'jlas'], ['buka'], ['tepat', 'hasilny'], ['difoto', 'pohin', 'jawabannya', 'ohin', 'mengaco', 'uninstal'], ['sesuai'], ['tingkatkan'], ['masa', 'tanaman', 'mawar', 'dibilang', 'kembang'], ['pepek', 'aplikasi', 'bermutu'], ['penipuan', 'jauh', 'beda'], ['aplikasi', 'tidak', 'jelas'], ['mengaco', 'akurat'], ['baru', 'pertama', 'indentipikasi', 'sudah', 'salah'], ['😀😀😀😀', 'aplikasi', 'abal', 'masak', 'pohon', 'cabai', 'lengkap', 'buahx', 'dibilang', 'winter', 'jasmin', 'pohon', 'duwet', 'dibilang', 'mangrove'], ['bener', 'aplikasi', 'mengaco'], ['salah', 'semua', 'orang', 'foto', 'anggrek', 'bilang', 'pandan'], ['kurang', 'keren'], ['hasilnya', 'ngasal', 'foto', 'daun', 'bawang', 'malah', 'dibilng', 'monstera'], ['mengaco', 'masa', 'foto', 'daun', 'beringin', 'jadi', 'pohon', 'pisang'], ['aplikasi', 'goblok'], ['jangan', 'donlut'], ['bukan', 'aneka', 'tanaman', 'toga'], ['manfaatnya'], ['mengaco', 'sesuai'], ['salah', 'semua', 'parah'], ['tolol', 'salah', 'semua', 'pepek'], [], ['sangat', 'buruk'], ['jelas'], ['akurat'], ['kurang', 'cerdas'], ['kecewa'], ['aduh', 'katipu', 'aing', 'sebal'], ['kali', 'moto', 'tanaman', 'terdeteksi'], ['meleset', 'terus'], ['dulu'], ['regret', 'download', 'this', 'harus', 'internet', 'connection'], ['jangan', 'didownload', 'aplikasi', 'bohong', 'buang', 'buang', 'kuota'], ['gadanta', 'jangan', 'download', 'menyesal', 'download'], ['woking'], ['aplikasi', 'khusus', 'kota', 'bego', 'kali'], ['hasil', 'sangat', 'bagus'], ['chef', 'juna', 'picik'], ['berguna', 'anjir'], ['force', 'close'], ['error', 'service', 'missing'], ['found', 'what', 'looking'], ['aplikasi', 'busuk'], ['sangat'], ['jelas'], ['expectation'], ['sering', 'salah'], ['tahu'], ['keren'], ['mantap']]\n"
          ]
        },
        {
          "output_type": "execute_result",
          "data": {
            "text/plain": [
              "420"
            ]
          },
          "metadata": {},
          "execution_count": 53
        }
      ]
    },
    {
      "cell_type": "code",
      "source": [
        "factory = StemmerFactory()\n",
        "ind_stemmer = factory.create_stemmer()\n",
        "white_list = [\"bali\"]\n",
        "\n",
        "def stemmer(line):\n",
        "  valid = list()\n",
        "  for word in line:\n",
        "    if(word not in white_list):\n",
        "      word = ind_stemmer.stem(word)\n",
        "    if(len(word)>2):\n",
        "      valid.append(word)\n",
        "  return valid\n",
        "\n",
        "data_stemmed = [stemmer (line) for line in ulasan_formal]\n",
        "print(data_stemmed)"
      ],
      "metadata": {
        "colab": {
          "base_uri": "https://localhost:8080/"
        },
        "id": "QaiGdPJ5F8nN",
        "outputId": "199a6659-31f3-4a68-865a-4ae12b454acf"
      },
      "execution_count": null,
      "outputs": [
        {
          "output_type": "stream",
          "name": "stdout",
          "text": [
            "[['sangat', 'bantu', 'ada', 'aplikasi'], ['jual', 'tanam', 'hias', 'baru', 'mulai', 'usaha', 'awal', 'sangat', 'bingung', 'keringat', 'satu', 'nama', 'tanam', 'belanja', 'tanam', 'jual', 'kenal', 'nama', 'lalu', 'coba', 'cari', 'cari', 'aplikasi', 'alhamdulillah', 'temu', 'sini', 'sekarang', 'perlu', 'bingung', 'aktif', 'kamera', 'arah', 'tanam', 'tahu', 'terimakasih', 'plant', 'snap'], ['amazing', 'keren', 'gila', 'respectful', 'developer', 'terus', 'kembang', 'jangan', 'patah', 'semangat', 'selaras', 'alam', 'teknologi', 'beli', 'premium', 'salam', 'lestari'], ['kalau', 'bilang', 'aplikasi', 'guna', 'mohon', 'pikir', 'jangan', 'andal', 'aplikasi', 'global', 'menganalisa', 'sekitar', 'tinggal', 'indonesia', 'guna', 'aplikasi', 'jalan', 'sesuai', 'harap', 'sepenuh', 'bukan', 'salah', 'aplikasi', 'ingat', 'agam', 'bahasa', 'indonesia', 'buat', 'analisa', 'nama', 'jenis', 'tumbuh', 'aplikasi', 'sepenuh', 'sama', 'nama', 'jenis', 'tumbuh', 'daerah'], ['aplikasi', 'canggih', 'sangat', 'bantu', 'buat', 'khusus', 'anak', 'anak', 'lebih', 'cepat', 'tahu', 'jenis', 'tanam', 'pasti', 'beri', 'tambah', 'ilmu', 'sangat', 'guna', 'tahu'], ['aplikasi', 'sensor', 'detektor', 'tanam', 'sangat', 'bantu', 'mudah', 'segala', 'khusus', 'kenal', 'ajar', 'jelajah', 'banyak', 'kehiduoan', 'sekitar', 'kita'], ['aplikasi', 'bagus', 'banget', 'sangat', 'bantu', 'mahasiswa', 'biologi'], ['suka', 'banget', 'aplikasi', 'temu', 'profil', 'lengkap', 'tanam', 'sekitar', 'terima', 'kasih'], ['identifikasi', 'arti', 'kamera', 'burik'], ['mudah', 'kenal', 'tanam', 'tempat', 'terima', 'kasih'], ['muas', 'perlu', 'tingkat', 'durasi', 'pngambilan', 'gambar', 'terimakasih'], ['aplikasi', 'sangat', 'bagus', 'ingin', 'banget', 'langgan', 'premium', 'good', 'luck'], ['sangat', 'mudah', 'bantu', 'butuh', 'nama', 'tanam', 'koleksi', 'trmkasih'], ['koleksi', 'kurang', 'banyak', 'banyak', 'teks'], ['guna', 'aplikasi', 'asli', 'pohon', 'pohon', 'maka', 'penuh', 'butuh', 'hidup', 'makin', 'lama', 'makin', 'jangkau', 'mahal', 'kuat'], ['sangat', 'bantu', 'buat', 'cinta', 'tanam'], ['sangat', 'bantu', 'jadi', 'lebih', 'mudah', 'buat', 'tugas', 'laproan', 'tumbuh', 'obat', 'alhamdulilah', 'nilai', 'farmasi', 'jadi', 'lebih', 'baik'], ['bagus', 'sekali', 'tempat', 'jauh', 'kota', 'jaring', 'pakai'], ['aplikasi', 'ajar', 'tanam', 'terimakasih', 'semua'], ['bantu', 'banget', 'buat', 'cari', 'tanam', 'sekarang', 'fiture', 'sosmednya', 'keren'], ['bagus', 'sesuai', 'foto', 'nama', 'tanam'], ['sangat', 'bantu', 'buat', 'klasifikasi', 'tanam'], ['baik', 'gembira', 'nali', 'tumbuh', 'tumbuh', 'manfaat', 'terima', 'kasih', 'salam', 'hornat'], ['sangat', 'jernih', 'fokus', 'keren'], ['sangat', 'bantu', 'mengindentifikasi', 'tanam'], ['apknya', 'sangat', 'bantu', 'sekali', 'buat', 'referensi'], ['aplikasi', 'sangat', 'manfaat', 'terimakasih', 'sukses'], ['apps', 'mntap', 'lebih', 'bayak', 'wawas', 'kenal', 'nama', 'tumbuhun'], ['suka', 'banget', 'yaampun', 'perlu', 'khawatir', 'kalau', 'ditanyain', 'nenek', 'tanam', 'terlalu', 'jadi', 'pakai', 'segala', 'mudah', 'begini', 'terimakasih', 'luv'], ['mantaf', 'aplikasi', 'bantu', 'nali', 'tumbuh', 'bahasa', 'ilmiah', 'yamg', 'mendunka'], ['aplikasi', 'bagus', 'kalau', 'main', 'hutan', 'lebih', 'asyik', 'seperti'], ['ada', 'apikasi', 'pegetahuan', 'tanam', 'bunga', 'pohon', 'makin', 'tambah'], ['langsung', 'bintang', 'mudah', 'mudah', 'bagus'], ['mohon', 'tingkat', 'cepat', 'tinggi'], ['keren', 'habis', 'kamera', 'mantap', 'benar'], ['sangat', 'bantu', 'identifikasi', 'tumbuh', 'sekolah'], ['sangat', 'manfaat', 'bantu', 'mahasiswa', 'tani', 'kenal', 'tanam', 'sekitar', 'dketahui', 'nama', 'latin', 'deskripsi'], ['sangat', 'bagus', 'tranfer', 'dana', 'semua', 'mudah'], ['bagus', 'tambah', 'tahu', 'dunia', 'tanam'], ['aplikasi', 'sangat', 'bantu', 'khusus', 'cinta', 'sains'], ['sangat', 'manfaat', 'lebih', 'kenal', 'tumbuh', 'amin'], ['aplikasi', 'cerdas', 'gemar', 'tanam'], ['terimakasih', 'plansnap', 'moga', 'aplikasi', 'guna', 'bantu', 'banyak', 'penguna', 'mengintifikasih', 'bagai', 'tumbuh', 'liar', 'alam', 'guna', 'manfaat', 'tepat'], ['bagus', 'aplikasi', 'free', 'bantu', 'ajar', 'tanam'], ['aplikasia', 'sangat', 'bagus', 'pertama', 'pikir', 'aplikasi', 'goblok', 'nyata', 'sangat', 'bagus', 'terima', 'kasih'], ['mntap', 'harp', 'screnshot', 'simpan', 'komposisi'], ['suka', 'aplikasi', 'bantu', 'kenal', 'lebih', 'jauh', 'mahluk', 'cipta', 'tuhan'], ['aplikasi', 'sangat', 'manfaat', 'semua', 'orang'], ['moga', 'mampat', 'biasa', 'tugas', 'sekolah'], ['sangat', 'manfaat', 'akurasi', 'tinggi'], ['sangat', 'bantu', 'tahu', 'jenis', 'tumbuh'], ['hebat', 'sangat', 'membntu', 'tahu', 'nama', 'tumbuhn'], ['simpel', 'cukup', 'hibur'], ['sangat', 'bantu', 'suka', 'sekali'], ['mantap', 'coba'], ['bagus', 'ealau', 'kadang', 'salah', 'tali', 'kesalahnnya', 'sedikit'], ['informasi', 'sangat', 'bantu'], ['aplikasi', 'sangat', 'bantu', 'identifikasi', 'jenis', 'nama', 'tanam'], ['lalu', 'aplikasi', 'mudah', 'identifikasi', 'nama', 'latin', 'bunga'], ['kenal', 'tanam', 'lebih', 'akurat'], ['bagus', 'tingkat'], ['bagus', 'sangat', 'ilmiah'], ['opsi', 'ajar', 'biologi', 'tambah'], ['syukur', 'ada', 'aplikasi', 'tambah', 'pengeyahuan'], ['trimaksih', 'moga', 'manfaat', 'semua'], ['dang', 'manfaat', 'tingkat'], ['sangat', 'bantu', 'terimakasih'], ['lumayan', 'bagus', 'aplikasi'], ['sangat', 'bantu', 'cinta', 'botani'], ['sangat', 'bantu', 'rekomendasi'], ['bagus', 'sangat', 'bantu'], ['keren', 'fakta', 'hasil'], ['dahsyat', 'deh', 'kasih'], ['aplikasi', 'sangat', 'manfaat'], ['inspiratif', 'banget', 'aplikasi'], ['mantap', 'sangat', 'bantu'], ['keren', 'banget', 'terimakasih', 'eksplorasi', 'alam', 'cipta', 'allah', 'makin', 'seru'], ['keren', 'sangat', 'bantu'], ['pakai', 'erti'], ['iklan', 'kurang'], ['sangat', 'bantu', 'terimakasih'], ['sangat', 'bantu', 'tahu', 'nama', 'tanam'], ['sangat', 'sangat', 'sangat', 'manfaat'], ['okayy', 'deh', 'mudah', 'nali', 'tanam'], ['baru', 'coba', 'bagaimana', 'hasil', 'nanti', 'dikomen', 'deh'], ['bagus', 'sekali', 'mantap'], ['baru', 'downloads'], ['sangat', 'bantu'], ['usul', 'tanam', 'herbal', 'biar', 'tahu'], ['sangat', 'bantu'], ['sangat', 'manfaat'], ['sangat', 'manfaat', 'tenk'], ['sangat', 'manfaat'], ['sangat', 'bagus'], ['sangat', 'tarik'], ['sangat', 'bantu'], ['sangat', 'bantu'], ['bagus', 'nama', 'nama', 'pohon'], ['sangat', 'bantu'], ['sangat', 'bantu'], ['sangat', 'manfaat'], ['sangat', 'bantu'], ['aplikasi', 'hebat'], ['sangat', 'bantu'], ['plantsnap', 'sangat', 'bantu', 'sekarang', 'baik', 'daripada', 'belum'], ['nali', 'nama', 'macam', 'macam', 'tanam'], ['sangat', 'bagus'], ['coba'], ['bagus', 'kembang', 'terus'], ['sangat', 'guna'], ['sangat', 'membntu'], ['coba', 'dulu'], ['banyak', 'bantu'], ['patut', 'coba'], ['bantu', 'kenal', 'tanam'], ['buat', 'tau', 'jenis', 'tanam'], ['sangat', 'batu'], ['guna', 'banget'], ['moga', 'manfaat'], ['coba', 'besok', 'pagi'], ['bantu', 'analisa', 'tanam'], ['mantap'], ['tambah', 'tahu'], ['baik', 'sekali'], ['suka', 'sekali'], [], ['amazing'], [], ['canggih'], ['bagus'], ['sangat', 'fast'], ['sangat', 'good'], ['mantap'], ['asyik'], ['seperti', 'this', 'aplication'], ['terimakasih', 'much', 'creator', 'this', 'really', 'appreciate', 'this', 'that', 'bantu', 'pakai', 'herbarium', 'assignment', 'thankyou', 'much'], ['sangat', 'praktis'], ['valuable', 'useful'], ['sip'], ['helps', 'identify', 'many', 'species', 'plants', 'although', 'still', 'missidentification', 'presents', 'what', 'difference', 'between', 'this', 'version', 'with', 'version', 'version', 'more', 'accurate', 'then', 'free', 'version'], ['keren'], ['awesome'], ['amazind'], ['good', 'experience'], ['good'], ['bring', 'stars', 'this', 'plant', 'snap', 'apps', 'forward', 'will', 'terimakasih', 'xiaomi', 'officials', 'lthanks', 'plants', 'snap', 'because', 'your', 'apps', 'sangat', 'manis', 'baik', 'apps'], [], ['bagos'], ['terima', 'kasih'], ['apiiikkkk', 'toopppp'], [], ['terimakasih', 'pakai', 'project', 'success'], ['good'], [], ['mantap'], ['bagus'], ['muas'], ['good'], [], ['bagus'], [], [], ['sangat', 'bagus'], ['keren'], ['mangthaabb'], ['good'], ['manis'], ['terima', 'kasih', 'sangat', 'manfaat'], ['mantap'], ['mantapss'], [], ['perfect'], ['jos'], ['vvbbb'], ['bagus'], ['good i', 'love'], ['good'], [], ['sip'], ['sangat', 'bernanfaat'], ['bintang'], ['manis'], [], ['keren'], ['good'], ['wooo'], [], ['good'], [], ['sangat', 'manis', 'sangat', 'good'], [], [], ['langsung', 'asih', 'enggak', 'wkwkw'], ['jos'], ['dulu'], ['mantap'], ['mantap'], ['keren', 'deh'], ['baik'], ['bagus'], ['aplikasi', 'bagus', 'perlu', 'sempurna', 'maksimal', 'akurasi', 'kultur', 'jaring', 'bimbang', 'tentu', 'nama', 'jenis', 'tumbuh', 'terimakasih', 'tunggu', 'penyrmpurnaannya'], ['aplikasi', 'bagus', 'nama', 'tanam', 'saran', 'kalau', 'tambah', 'fungsi', 'tanam', 'misal', 'buat', 'obat', 'makan', 'mungkin', 'racun'], ['coba', 'puas', 'rena', 'tumbuh', 'depan', 'rumah', 'scan', 'lewat', 'plantsnap', 'nyata', 'beri', 'jelas', 'dapat', 'hasil'], ['sangat', 'bantu', 'tambah', 'tahu', 'tumbuh', 'tumbuh', 'bunga'], ['analisa', 'salah', 'paling', 'kesal', 'selalu', 'minta', 'diupdate', 'habis', 'waktu', 'quota'], ['aplikasi', 'bagus', 'baik', 'biar', 'lebih', 'baik', 'suka', 'banyak', 'orang'], ['banyak', 'perlu', 'ppenyempurnaan', 'masak', 'daun', 'telinga', 'kata', 'pisang', 'heheh', 'iklanya', 'buat', 'risih'], ['kurang', 'akurat', 'banyak', 'salah', 'coba', 'buat', 'identifikasi', 'beberapa', 'kali', 'namu', 'keliru'], ['cukup', 'bantu', 'paham', 'bunga'], ['bagus', 'tlong', 'tampil', 'dengan', 'rinci', 'guna', 'tanam', 'biar', 'lebih', 'manfaat'], ['iklan', 'sangat', 'ganggu'], ['kurang', 'kamera', 'hampir'], ['deteksi', 'tepat', 'uninst'], ['baru', 'pasang', 'aplikadi', 'jadi', 'lihat', 'dulu', 'kalau', 'bagus', 'tambah', 'bintang'], ['harap', 'kali', 'lebih', 'rinci', 'aplikasi', 'snap', 'binatang'], ['kadang', 'tepat', 'kadang', 'banyak', 'tepat'], ['identifikasi', 'tanam', 'liar', 'pakai', 'premium'], ['dong', 'kasih', 'nama', 'umum', 'jangan', 'nama', 'latinnya', 'doang'], ['lumayan', 'bantu', 'akurat'], ['baru', 'install', 'hasil', 'bagus', 'tambah', 'bintang'], ['sangat', 'bantu', 'identifikasi', 'bunga', 'tanam', 'kenal'], ['baru', 'instal', 'bagus', 'beri', 'bintang'], ['moga', 'manfaat', 'jangan', 'boros', 'kuota'], ['dulu', 'nanti', 'kalau', 'bagus', 'tambah'], ['coba', 'dulu', 'kalau', 'ribet', 'bayar', 'tambah', 'bintang'], ['nama', 'indonesia'], ['lumayan', 'bagus', 'kurang', 'akurat'], ['kadang', 'tumbuh', 'sesuai'], ['kasih', 'bintang', 'kalau', 'bagus', 'tamba', 'bintang'], ['indonesia'], ['coba', 'dulu', 'bagus', 'kasih', 'bintang'], ['bravo', 'tingkat', 'sangat', 'bguna', 'buat', 'generasi', 'sekarang', 'datang'], ['kasih', 'betul', 'bagus', 'baru', 'kasih', 'bintang'], ['dulu', 'nanti', 'tambah'], ['dulu', 'good', 'baru'], ['kurang', 'identifikasi', 'tanam'], ['dulu', 'bagus', 'tambah'], ['guru', 'biologi', 'cocok', 'banget'], ['lumayan', 'bagus'], ['sangat', 'bantu'], ['coba', 'aplikasi'], ['tingkatkn'], ['baru', 'kenal', 'jadi', 'kasih', 'bintang', 'dulu'], ['lumayan', 'bagus'], ['coba', 'dulu'], ['baru', 'mulai', 'mulai', 'sekarang'], ['kocak', 'poto', 'kontol', 'keluar', 'jamur'], ['kasih', 'bintang', 'dulu'], ['moga', 'bagus'], ['bagus', 'sekali'], ['kasih', 'dulu'], ['bintang', 'dulu'], ['coba', 'dulu', 'terimakasih'], ['coba', 'dulu'], ['coba'], ['coba', 'dulu'], ['moga', 'manfaat'], ['coba', 'dulu'], [], ['kurang', 'akurat'], ['upload', 'pictures', 'when', 'open', 'quota', 'photo', 'before', 'take', 'gambar'], ['forceclose', 'phone', 'asus', 'zenfone'], ['cukup', 'bagus'], ['bintang', 'disik'], ['after', 'update', 'sangat', 'long', 'waktu', 'result'], ['memang'], [], ['coba', 'dulu'], ['coba', 'dulu'], ['bagus'], ['bagus'], ['kurang', 'cepat'], ['kurang', 'jelas'], [], ['coba', 'dulu'], [], ['translate', 'bahasa', 'indonesia', 'deskripsi', 'tanam', 'menu', 'beranda', 'bahasa', 'indonesia'], ['coba', 'dulu', 'bagus', 'tambah', 'bintang'], ['baru', 'coba', 'kalau', 'tahan', 'kalau', 'hapus', 'xixixixxixi'], ['coba', 'hela', 'alus'], ['pernah', 'lihat'], ['biasa'], ['lihat'], ['sangat', 'suka'], ['coba', 'dulu'], ['coba'], ['baru', 'coba'], ['coba', 'dulu'], [], ['coba', 'dulu'], ['coba'], [], [], ['coba'], ['good'], ['cukuo'], ['netral'], ['mantapbetul'], ['bagus'], ['lumayan'], ['terimakasih'], ['ranting', 'besar', 'sorry', 'coba', 'deteksi', 'beberapa', 'tumbuh', 'hasil', 'tepat', 'sama', 'sekali', 'baik'], ['kembang', 'perlu', 'teliti', 'lebih', 'rinci', 'bintang', 'cvkup', 'usaha', 'luar', 'biasa', 'coba', 'akurat', 'salah'], ['akurat', 'jauh', 'hasil', 'foto', 'sama', 'nama', 'latinnya', 'atau', 'lokal', 'banyak', 'sambung'], ['kira', 'bukan', 'solusi', 'baik', 'tambah', 'pusing', 'coba', 'baru', 'lebih', 'baik', 'identifikasi', 'tanam'], ['coba', 'kasih', 'sempat', 'foto', 'kali', 'semua', 'foto', 'tanam', 'beda', 'sayang', 'akurat', 'mohon', 'baik'], ['ulas', 'hasil', 'sama', 'selesai', 'penginstalan', 'lalu', 'buka', 'lalu', 'blank', 'hitam', 'nubia', 'lite'], ['baru', 'coba', 'tanam', 'malah', 'putar', 'terus', 'selesai', 'coba', 'malah', 'kata', 'jatah'], ['sangat', 'sesal', 'banget', 'aplikasi', 'jelas', 'banget', 'dong', 'batalin', 'soal', 'guna', 'ikut', 'banyak', 'tunjuk', 'tetap', 'gunain', 'aplikasi'], ['lambat', 'minta', 'ampun', 'malah', 'cepat', 'cari', 'browsing', 'nama', 'lokal', 'terdetek'], ['aduh', 'premium', 'jadi', 'malah', 'salah', 'teks', 'nama', 'sesal', 'premium'], ['coba', 'lima', 'jenis', 'tanam', 'beda', 'semua', 'salah', 'identifikasi', 'program', 'perlu', 'sempurna', 'berat'], ['aplikasi', 'baik', 'jangan', 'deteksi', 'tanam', 'klik', 'mempan'], ['aplikasi', 'guna', 'sampah', 'salah', 'identifikasi', 'fatal', 'deteksi', 'jangan', 'donlot'], ['paksa', 'uninstal', 'foto', 'tanam', 'cabe', 'tidakpeduli', 'keluar', 'terus', 'foto', 'tanam', 'bawang', 'keluar', 'tanam', 'lidah', 'buaya', 'haha', 'aplikasi', 'tolollllllllll', 'wkwkwkwk'], ['aplikasi', 'bagaimana', 'akurat', 'sama', 'sekali', 'coba', 'bolak', 'balik', 'tetap', 'keliru', 'nama'], ['keren', 'banget', 'belum', 'enggaktau', 'bentuk', 'tomat', 'seperti', 'bagaimana', 'berkat', 'aplikasi', 'jadi', 'beda', 'tomat', 'cabai'], ['aplikas', 'bodoh', 'sesuai', 'sama', 'sekali', 'jenis', 'identifikasi', 'maaf', 'langsung', 'hapus'], ['percuma', 'download', 'foto', 'tumbuh', 'benar', 'lalu', 'fungsi', 'aplikasi', 'masak', 'foto', 'pohon', 'singkong', 'jawabanya', 'entah', 'pohon', 'padahal', 'ruas', 'pohon', 'daun', 'jelas', 'pohon'], ['tidak', 'didownload', 'dipakek', 'jadi', 'salah', 'terus', 'terus'], ['kurang', 'akurat', 'foto', 'pohon', 'kurma', 'deteksi', 'akurat'], ['indentifikasi', 'terlalu', 'lama', 'akurat'], ['identifikasi', 'tahu', 'nama', 'tumbuh', 'coba', 'kasih', 'jawab'], ['kenapa', 'guna', 'redmi', 'mohon', 'cerah'], ['maaf', 'terlalu', 'sombong', 'judul', 'nyata', 'akurat', 'sama', 'sekali', 'sila', 'coba', 'penasaran', 'biar', 'dusta', 'sesal', 'wkwkwkwkw'], ['kali', 'semua', 'akurat', 'padahal', 'kangkung', 'labu', 'cabai', 'gulma', 'semua', 'valid'], ['waduh', 'paham', 'jenis', 'tumbuh', 'tanam', 'kenal', 'jelas', 'salah', 'identifikasi', 'mohon', 'baik', 'terima', 'kasih'], ['ambil', 'gambar', 'suruh', 'coba', 'sama', 'delet'], ['aplikasi', 'bagus', 'tahu', 'ragam', 'jenis', 'tanam', 'sayang', 'hapus', 'aplikasi', 'akurat'], ['baru', 'tadi', 'coba', 'identifikasi', 'hasil', 'sangat', 'jauh', 'beda'], ['banyak', 'salah', 'identifikasi', 'kurang', 'referensi', 'banyak', 'masuk', 'jenis', 'tanam'], ['kasih', 'jangan', 'download', 'buka', 'duga', 'pakai', 'data', 'data', 'jancok'], ['bantu', 'ketik', 'nama', 'sesuai', 'prediksi', 'baru', 'tadi', 'kasih', 'bintang', 'nyata', 'jebak', 'kasih', 'bintang', 'baru', 'posting', 'komentar'], ['tingkat', 'akurasi', 'rendah'], ['bahaya', 'jangan', 'download', 'kena', 'root'], ['apalikasi', 'buka', 'habis', 'kuota'], ['hari', 'masuk', 'hutan', 'sedikit', 'bendahara', 'pohon'], ['aplikasi', 'anjing', 'lumayan', 'ganti', 'aplikasi', 'buat', 'jenis', 'anjing', 'biar', 'diri', 'kalau', 'memang', 'bakat', 'buat', 'cari', 'jenis', 'tanam'], ['lama', 'kali', 'indentifikasinya', 'padahal', 'cuma', 'bawang', 'bombay', 'kupas', 'kulit', 'kuning'], ['cocok', 'buat', 'hobi', 'tonton', 'iklan'], ['bagus', 'banget', 'banyak', 'iklan', 'jadi', 'seru', 'anjing'], ['aplikasi', 'bodoh', 'paling', 'bodoh', 'dunia', 'abal', 'abal', 'mendefenisi', 'jenis', 'bunga', 'daun', 'pohon'], ['paling', 'jelek', 'mudah', 'boongin', 'jujur', 'tipu', 'tipu', 'tipu', 'tipu', 'sorry', 'lupa', 'buang', 'gamutu', 'lebihbagus', 'kamera', 'nokia', 'jadul'], ['aplikasi', 'sangat', 'kecewa', 'download', 'aplikasi'], ['akurat', 'semua', 'salah', 'kenal', 'jenis', 'tanam', 'jauh', 'semputna'], ['anjay', 'baru', 'kemarin', 'diupdate', 'hari', 'update'], ['aplikasi', 'kurang', 'bagus', 'akurat'], ['loading', 'lama'], ['sesuai', 'banget', 'daun', 'bougenvil', 'deskripsi', 'daun', 'cabai', 'rawit', 'daun', 'pucuk', 'merah', 'kira', 'daun', 'brbagai', 'spesies', 'bamboo'], ['perlu', 'daun', 'jambu', 'rumah', 'bilang', 'jshe'], ['identifikasi', 'tepat'], ['foto', 'rumput', 'depan', 'rumah', 'malah', 'keluar', 'gambar', 'tanam', 'enceng', 'gondok'], ['aplikasi', 'mala', 'sesat', 'banyak', 'salah', 'identifikasi', 'tumbuh', 'kecewa'], ['aplikasi', 'abal', 'abal', 'selalu', 'keliru', 'identifikasi', 'tanam'], ['kurang', 'bagus', 'masa', 'foto', 'daun', 'kelor', 'keluar', 'jelas', 'tanam'], ['akurat', 'mending', 'jangan', 'pakai'], ['payah', 'ngawur', 'akurat', 'sama', 'sekali'], ['jatah', 'potret', 'uninstall'], ['banyak', 'kurang'], ['kurang', 'manfaat', 'bantu'], ['mamfaat', 'plantsnap', 'tahu'], ['wkwkwkwk', 'apknya', 'selalu', 'salah', 'jawab'], ['mohon', 'maaf', 'atas', 'tidak', 'sesuai', 'nama', 'tumbuh', 'sebut', 'anjinggggg', 'goblokkkk', 'ashhuuuuu', 'nyeselll', 'sudah', 'downloadd', 'muterrrrrrrrr', 'teroossssss', 'selesai'], ['jelekkkkkk', 'banget', 'ujung', 'ujung', 'minta', 'bayar'], ['keren', 'jadi', 'beda', 'sawi', 'sama', 'bayam'], ['aplikasi', 'eggk', 'benar'], ['kontil', 'foto', 'bunga', 'bougenville', 'keluar', 'jlas'], ['buka'], ['tepat', 'hasilny'], ['foto', 'pohin', 'jawab', 'ohin', 'aco', 'uninstal'], ['sesuai'], ['tingkat'], ['masa', 'tanam', 'mawar', 'bilang', 'kembang'], ['pepek', 'aplikasi', 'mutu'], ['tipu', 'jauh', 'beda'], ['aplikasi', 'tidak', 'jelas'], ['aco', 'akurat'], ['baru', 'pertama', 'indentipikasi', 'sudah', 'salah'], ['aplikasi', 'abal', 'masak', 'pohon', 'cabai', 'lengkap', 'buahx', 'bilang', 'winter', 'jasmin', 'pohon', 'duwet', 'bilang', 'mangrove'], ['bener', 'aplikasi', 'aco'], ['salah', 'semua', 'orang', 'foto', 'anggrek', 'bilang', 'pandan'], ['kurang', 'keren'], ['hasil', 'ngasal', 'foto', 'daun', 'bawang', 'malah', 'dibilng', 'monstera'], ['aco', 'masa', 'foto', 'daun', 'beringin', 'jadi', 'pohon', 'pisang'], ['aplikasi', 'goblok'], ['jangan', 'donlut'], ['bukan', 'aneka', 'tanam', 'toga'], ['manfaat'], ['aco', 'sesuai'], ['salah', 'semua', 'parah'], ['tolol', 'salah', 'semua', 'pepek'], [], ['sangat', 'buruk'], ['jelas'], ['akurat'], ['kurang', 'cerdas'], ['kecewa'], ['aduh', 'katipu', 'aing', 'sebal'], ['kali', 'moto', 'tanam', 'deteksi'], ['meleset', 'terus'], ['dulu'], ['regret', 'download', 'this', 'harus', 'internet', 'connection'], ['jangan', 'didownload', 'aplikasi', 'bohong', 'buang', 'buang', 'kuota'], ['gadanta', 'jangan', 'download', 'sesal', 'download'], ['woking'], ['aplikasi', 'khusus', 'kota', 'bego', 'kali'], ['hasil', 'sangat', 'bagus'], ['chef', 'juna', 'picik'], ['guna', 'anjir'], ['force', 'close'], ['error', 'service', 'missing'], ['found', 'what', 'looking'], ['aplikasi', 'busuk'], ['sangat'], ['jelas'], ['expectation'], ['sering', 'salah'], ['tahu'], ['keren'], ['mantap']]\n"
          ]
        }
      ]
    },
    {
      "cell_type": "code",
      "source": [
        "unique_words = []\n",
        "for word in ulasan_formal:\n",
        "    if word not in unique_words:\n",
        "        unique_words.append(word)\n",
        "\n",
        "# Menggabungkan kembali kata-kata unik menjadi teks\n",
        "unique_text = unique_words\n",
        "\n",
        "print(unique_text)"
      ],
      "metadata": {
        "colab": {
          "base_uri": "https://localhost:8080/"
        },
        "id": "bK0dGekkGexH",
        "outputId": "eda82d01-4a28-45d8-9c0f-f7a7dbeda01e"
      },
      "execution_count": null,
      "outputs": [
        {
          "output_type": "stream",
          "name": "stdout",
          "text": [
            "[['sangat', 'terbantu', 'adanya', 'aplikasi'], ['penjual', 'tanaman', 'hias', 'baru', 'memulai', 'usaha', 'awalnya', 'sangat', 'bingung', 'keringat', 'persatu', 'nama', 'tanaman', 'berbelanja', 'tanaman', 'menjualnya', 'mengenal', 'nama', 'lalu', 'coba', 'mencari', 'cari', 'aplikasinya', 'alhamdulillah', 'menemukan', 'disini', 'sekarang', 'perlu', 'bingung', 'mengaktifkan', 'kamera', 'mengarahkan', 'tanaman', 'tahu', 'terimakasih', 'plant', 'snap'], ['amazing', 'keren', 'gila', 'respectful', 'developer', 'terus', 'dikembangkan', 'jangan', 'patah', 'semangat', 'menyelaraskan', 'alam', 'teknologi', 'beli', 'premium', 'salam', 'lestari'], ['kalau', 'bilang', 'aplikasi', 'berguna', 'mohon', 'pikir', 'jangan', 'mengandalkan', 'aplikasi', 'global', 'menganalisa', 'disekitar', 'tinggal', 'diindonesia', 'menggunakan', 'aplikasi', 'berjalan', 'sesuai', 'harapan', 'sepenuhnya', 'bukan', 'kesalahan', 'aplikasi', 'ingat', 'keberagaman', 'bahasa', 'indonesia', 'membuat', 'analisa', 'nama', 'jenis', 'tumbuhan', 'aplikasi', 'sepenuhnya', 'sama', 'nama', 'jenis', 'tumbuhan', 'didaerah'], ['aplikasi', 'canggih', 'sangatlah', 'membantu', 'buat', 'terkhusus', 'anak', 'anak', 'lebih', 'cepat', 'mengetahui', 'jenis', 'tanaman', 'pastinya', 'memberikan', 'tambahan', 'ilmu', 'sangatlah', 'berguna', 'pengetahuan'], ['aplikasi', 'sensor', 'detektor', 'tanaman', 'sangat', 'membantu', 'memudahkan', 'segalanya', 'khususnya', 'mengenal', 'mempelajari', 'menjelajah', 'banyak', 'kehiduoan', 'disekitar', 'kita🙏'], ['aplikasinya', 'bagus', 'banget', 'sangat', 'membantu', 'mahasiswa', 'biologi'], ['suka', 'banget', 'aplikasi', 'menemukan', 'profil', 'lengkap', 'tanaman', 'disekitar', 'terima', 'kasih'], ['identifikasi', 'berarti', 'kamera', 'burik'], ['mempermudah', 'pengenalan', 'tanaman', 'tempat', 'terima', 'kasih'], ['memuaskan', 'perlu', 'tingkatan', 'durasi', 'pngambilan', 'gambarnya', 'terimakasih'], ['aplikasi', 'sangat', 'bagus', 'ingin', 'banget', 'langganan', 'premium', 'good', 'luck'], ['sangat', 'mudah', 'membantu', 'kebutuhan', 'nama', 'tanaman', 'koleksi', 'trmkasih'], ['koleksinya', 'kurang', 'banyak', 'banyak', 'terditeksi'], ['menggunakan', 'aplikasi', 'asli', 'pohon', 'pohon', 'memakainya', 'memenuhi', 'kebutuhan', 'hidup', 'semakin', 'lama', 'semakin', 'jangkau', 'mahal', 'kuat'], ['sangat', 'membantu', 'buat', 'pencinta', 'tanaman'], ['sangat', 'membantu', 'jadi', 'lebih', 'mudah', 'membuat', 'tugas', 'laproan', 'tumbuhan', 'obat', 'alhamdulilah', 'nilai', 'farmasi', 'jadi', 'lebih', 'baik'], ['bagus', 'sekali', 'tempatku', 'jauh', 'kota', 'jaringan', 'kupakai'], ['aplikasi', 'belajar', 'tanaman', 'terimakasih', 'semua'], ['membantu', 'banget', 'buat', 'cari', 'tanaman', 'sekarang', 'fiture', 'sosmednya', 'keren'], ['bagus', 'sesuai', 'foto', 'nama', 'tanamannya'], ['sangat', 'membantu', 'buat', 'klasifikasi', 'tanaman'], ['baik', 'gembira', 'mengenali', 'tumbuh', 'tumbuhan', 'manfaatnya', 'terima', 'kasih', 'salam', 'hornat'], ['sangat', 'jernih', 'fokus', 'keren'], ['sangat', 'membantu', 'mengindentifikasi', 'tanaman'], ['apknya', 'sangat', 'membantu', 'sekali', 'buat', 'referensi'], ['aplikasi', 'sangat', 'bermanfaat', 'terimakasih', 'sukses'], ['apps', 'mntap', 'lebih', 'bayak', 'wawasan', 'mengenal', 'nama', 'tumbuhun'], ['suka', 'banget', 'yaampun', 'perlu', 'khawatir', 'kalau', 'ditanyain', 'nenek', 'tanaman', 'terlalu', 'jadi', 'pakai', 'segalanya', 'mudah', 'begini', 'terimakasih', 'luv❣️'], ['mantaf', 'aplikasi', 'membantu', 'mengenali', 'tumbuhan', 'bahasa', 'ilmiah', 'yamg', 'mendunka'], ['aplikasi', 'bagus', 'kalau', 'main', 'hutan', 'lebih', 'asyik', 'sepertinya'], ['adanya', 'apikasi', 'pegetahuan', 'tanaman', 'bunga', 'pohon', 'semakin', 'bertambah'], ['langsung', 'bintang', 'mudah', 'mudah', 'bagus'], ['mohon', 'tingkatkan', 'kecepatan', 'tinggi'], ['keren', 'habis', 'kameranya', 'mantap', 'benar'], ['sangat', 'membantu', 'mengidentifikasi', 'tumbuhan', 'sekolah'], ['sangat', 'bermanfaat', 'membantu', 'mahasiswa', 'pertanian', 'mengenal', 'tanaman', 'disekitar', 'dketahui', 'nama', 'latin', 'deskripsinya'], ['sangat', 'bagus', 'tranfer', 'dana', 'semua', 'mudah'], ['bagus', 'menambah', 'pengetahuan', 'dunia', 'tanaman'], ['aplikasi', 'sangat', 'membantu', 'khususnya', 'pecinta', 'sains'], ['sangat', 'bermanfaat', 'lebih', 'mengenal', 'tumbuhan', 'amin'], ['aplikasi', 'cerdas', 'penggemar', 'tanaman'], ['terimakasih', 'plansnap', 'semoga', 'aplikasi', 'berguna', 'bantu', 'banyak', 'penguna', 'mengintifikasih', 'berbagai', 'tumbuhan', 'liar', 'alam', 'kegunaan', 'manfaat', 'tepat'], ['bagus', 'aplikasi', 'free', 'membantu', 'pembelajaran', 'tanaman'], ['aplikasia', 'sangat', 'bagus', 'pertama', 'pikir', 'aplikasi', 'goblok', 'ternyata', 'sangat', 'bagus', 'terima', 'kasih'], ['mntap', 'harp', 'screnshot', 'simpan', 'komposisinya'], ['suka', 'aplikasi', 'membantu', 'mengenal', 'lebih', 'jauh', 'mahluk', 'ciptaan', 'tuhan'], ['aplikasi', 'sangat', 'bermanfaat', 'semua', 'orang'], ['semoga', 'bermampat', 'biasanya', 'tugas', 'sekolah👍'], ['sangat', 'bermanfaat', 'akurasi', 'tinggi'], ['sangat', 'membantu', 'mengetahui', 'jenis', 'tumbuhan'], ['hebat', 'sangat', 'membntu', 'pengetahuan', 'nama', 'tumbuhn'], ['simpel', 'cukup', 'menghibur'], ['sangat', 'membantu', 'suka', 'sekali'], ['mantap', 'coba'], ['bagus', 'ealau', 'kadang', 'salah', 'tali', 'kesalahnnya', 'sedikit'], ['informasi', 'sangat', 'membantu'], ['aplikasi', 'sangat', 'membantu', 'mengidentifikasi', 'jenis', 'nama', 'tanaman'], ['melalui', 'aplikasi', 'memudahkan', 'mengidentifikasi', 'nama', 'latin', 'bunga'], ['mengenal', 'tanaman', 'lebih', 'akurat'], ['bagus', 'tingkatkan'], ['bagus', 'sangat', 'ilmiah'], ['opsi', 'pelajaran', 'biologi', 'tambahan'], ['bersyukur', 'adanya', 'aplikasi', 'menambah', 'pengeyahuan'], ['trimaksih', 'semoga', 'bermanfaat', 'semua'], ['dangan', 'bermanfaat', 'ditingkatkan'], ['sangat', 'membantu', 'terimakasih'], ['lumayan', 'bagus', 'aplikasinya😀😀😀😀'], ['sangat', 'membantu', 'pecinta', 'botani'], ['sangat', 'membantu', 'rekomendasi'], ['bagus', 'sangat', 'membantu'], ['keren', 'fakta', 'hasilnya'], ['dahsyat', 'deh', 'kasih'], ['aplikasi', 'sangat', 'bermanfaat'], ['inspiratif', 'banget', 'aplikasi'], ['mantap', 'sangat', 'membantu'], ['keren', 'banget', 'terimakasih', 'eksplorasi', 'alam', 'ciptaan', 'allah', 'semakin', 'seru'], ['keren', 'sangat', 'membantu'], ['pakai', 'mengerti'], ['iklan', 'kurangi'], ['sangat', 'membantu', 'mengetahui', 'nama', 'tanaman'], ['sangat', 'sangat', 'sangat', 'bermanfaat'], ['okayy', 'deh', 'mudah', 'mengenali', 'tanaman'], ['baru', 'dicoba', 'bagaimana', 'hasilnya', 'nanti', 'dikomen', 'deh'], ['bagus', 'sekali', 'mantap'], ['baru', 'downloads'], ['sangat', 'membantu'], ['usul', 'tanaman', 'herbal', 'biar', 'ketahui'], ['sangat', 'bermanfaat'], ['sangat', 'bermanfaat', 'tenk'], ['sangat', 'bagus'], ['sangat', 'menarik'], ['bagus', 'nama', 'nama', 'pohon'], ['aplikasi', 'hebat'], ['plantsnap', 'sangat', 'membantu', 'sekarang', 'baik', 'daripada', 'sebelumnya'], ['mengenali', 'nama', 'bermacam', 'macam', 'tanaman'], ['dicoba'], ['bagus', 'kembangkan', 'terus'], ['sangat', 'berguna'], ['sangat', 'membntu'], ['coba', 'dulu'], ['banyak', 'membantu'], ['patut', 'coba'], ['membantu', 'mengenal', 'tanaman'], ['buat', 'mengetaui', 'jenis', 'tanaman'], ['sangat', 'membatu'], ['berguna', 'banget'], ['semoga', 'bermanfaat'], ['coba', 'besok', 'pagi'], ['bantu', 'analisa', 'tanaman'], ['mantap'], ['menambah', 'pengetahuan'], ['baik', 'sekali'], ['suka', 'sekali'], [], ['amazing'], ['canggih'], ['bagus'], ['sangat', 'fast'], ['sangat', 'good'], ['asyik'], ['seperti', 'this', 'aplication'], ['terimakasih', 'much', 'creator', 'this', 'really', 'appreciate', 'this', 'that', 'bantu', 'pakai', 'herbarium', 'assignment', 'thankyou', 'much'], ['sangat', 'praktis'], ['valuable', 'useful'], ['sip'], ['helps', 'identify', 'many', 'species', 'plants', 'although', 'still', 'missidentification', 'presents', 'what', 'difference', 'between', 'this', 'version', 'with', 'version', 'version', 'more', 'accurate', 'then', 'free', 'version'], ['keren'], ['awesome'], ['amazind'], ['good', 'experience'], ['good'], ['bring', 'stars', 'this', 'plant', 'snap', 'apps', 'forward', 'will', 'terimakasih', 'xiaomi', 'officials', 'lthanks', 'plants', 'snap', 'because', 'your', 'apps', 'sangat', 'manis', 'terbaik', 'apps'], ['bagos'], ['terima', 'kasih'], ['apiiikkkk', 'toopppp'], ['terimakasih', 'pakai', 'project', 'success'], ['muaskan'], ['mangthaabb'], ['manis'], ['terima', 'kasih', 'sangat', 'bermanfaat'], ['mantapss'], ['perfect'], ['jos'], ['vvbbb'], ['good👍👍👍👍i', 'love'], ['sangat', 'bernanfaat'], ['bintang', '🤝🏾🙏🙏💞'], ['wooo'], ['sangat', 'manis', 'sangat', 'good'], ['langsung', 'mengasih', 'enggak', 'wkwkw'], ['dulu'], ['keren', 'deh'], ['terbaik'], ['aplikasi', 'bagus', 'perlu', 'disempurnakan', 'maksimal', 'akurasi', 'kultur', 'jaringan', 'bimbang', 'menentukan', 'nama', 'jenis', 'tumbuhan', 'terimakasih', 'tunggu', 'penyrmpurnaannya'], ['aplikasi', 'bagus', 'nama', 'tanaman', 'saran', 'kalau', 'tambahkan', 'fungsi', 'tanaman', 'misalnya', 'buat', 'obat', 'makan', 'mungkin', 'beracun'], ['mencobanya', 'puas', 'kerena', 'tumbuhan', 'didepan', 'rumah', 'scan', 'lewat', 'plantsnap', 'ternyata', 'memberi', 'penjelasan', 'mendapatkan', 'hasil'], ['sangat', 'membantu', 'menambah', 'pengetahuan', 'tumbuh', 'tumbuhan', 'bunga'], ['analisa', 'salah', 'paling', 'mengesalkan', 'selalu', 'meminta', 'diupdate', 'menghabiskan', 'waktu', 'quota'], ['aplikasinya', 'bagus', 'diperbaiki', 'biar', 'lebih', 'baik', 'disukai', 'banyak', 'orang'], ['banyak', 'perlu', 'ppenyempurnaan', 'masak', 'daun', 'telinga', 'katakan', 'pisang', 'heheh', 'iklanya', 'membuat', 'risih'], ['kurang', 'akurat', 'banyak', 'salah', 'mencoba', 'buat', 'identifikasi', 'beberapa', 'kali', 'namu', 'keliru'], ['cukup', 'membantu', 'memahami', 'bunga'], ['bagus', 'tlong', 'tampilkan', 'dengan', 'rinci', 'kegunaan', 'tanaman', 'biar', 'lebih', 'bermanfaat'], ['iklannya', 'sangat', 'mengganggu'], ['kurang', 'kameranya', 'menghampiri'], ['mendeteksi', 'tepat', 'uninst'], ['baru', 'pasang', 'aplikadi', 'jadi', 'lihat', 'dulu', 'kalau', 'bagus', 'tambah', 'bintangnya'], ['harap', 'kali', 'lebih', 'rinci', 'aplikasi', 'snap', 'binatang'], ['kadang', 'tepat', 'kadang', 'banyak', 'tepatnya'], ['mengidentifikasi', 'tanaman', 'liar', 'pakai', 'premium'], ['dong', 'kasih', 'nama', 'umum', 'jangan', 'nama', 'latinnya', 'doang'], ['lumayan', 'membantu', 'akurat'], ['baru', 'install', 'hasilnya', 'bagus', 'tambah', 'bintangnya'], ['sangat', 'membantu', 'identifikasi', 'bunga', 'tanaman', 'kenal'], ['baru', 'instal', 'bagus', 'beri', 'bintang'], ['semoga', 'bermanfaat', 'jangan', 'boros', 'kuota'], ['dulu', 'nanti', 'kalau', 'bagus', 'ditambah'], ['coba', 'dulu', 'kalau', 'ribet', 'bayar', 'tambah', 'bintang', '⭐⭐⭐⭐'], ['nama', 'indonesia'], ['lumayan', 'bagus', 'kurang', 'akurat'], ['kadang', 'tumbuhan', 'sesuai'], ['kasih', 'bintang', 'kalau', 'bagus', 'tamba', 'bintangnya'], ['indonesia'], ['coba', 'dulu', 'bagus', 'kasih', 'bintang'], ['bravo', 'tingkatkan', 'sangat', 'bguna', 'buat', 'generasi', 'sekarang', 'datang'], ['kasih', 'betul', 'bagus', 'baru', 'kasih', 'bintang'], ['dulu', 'nanti', 'tambah'], ['dulu', 'good', 'baru'], ['kurang', 'mengidentifikasi', 'tanaman'], ['dulu', 'bagus', 'tambahkan'], ['guru', 'biologi', 'cocok', 'banget'], ['lumayan', 'bagusnya'], ['coba', 'aplikasinya'], ['tingkatkn'], ['baru', 'kenal', 'jadi', 'kasih', 'bintang', 'dulu'], ['lumayan', 'bagus'], ['baru', 'dimulai', 'mulai', 'sekarang'], ['kocak', 'poto', 'kontol', 'keluar', 'jamur'], ['kasih', 'bintang', 'dulu'], ['semoga', 'bagus'], ['bagus', 'sekali'], ['kasih', 'dulu'], ['bintang', 'dulu'], ['coba', 'dulu', 'terimakasih'], ['coba'], ['dicoba', 'dulu'], ['kurang', 'akurat'], ['upload', 'pictures', 'when', 'open', 'quota', 'photo', 'before', 'take', 'gambar'], ['forceclose', 'phone', 'asus', 'zenfone'], ['cukup', 'bagus'], ['bintang', 'disik'], ['after', 'update', 'sangat', 'long', 'waktu', 'result'], ['memang'], ['mencoba', 'dulu'], ['kurang', 'cepat'], ['kurang', 'jelas'], ['translate', 'bahasa', 'indonesianya', 'deskripsi', 'tanamannya', 'menu', 'berandanya', 'berbahasa', 'indonesia'], ['coba', 'dulu', 'bagus', 'tambah', 'bintang'], ['baru', 'coba', 'kalau', 'pertahankan', 'kalau', 'hapus', 'xixixixxixi'], ['coba', 'hela', 'alus'], ['pernah', 'lihat'], ['biasa'], ['lihat'], ['sangat', 'suka'], ['baru', 'coba'], ['mencoba'], ['cukuo'], ['netral'], ['mantapbetul'], ['lumayan'], ['terimakasih'], ['ranting', 'besar', 'sorry', 'coba', 'mendeteksi', 'beberapa', 'tumbuhan', 'hasilnya', 'tepat', 'sama', 'sekali', 'perbaiki'], ['pengembang', 'perlu', 'penelitian', 'lebih', 'rinci', 'bintang', 'cvkup', 'usaha', 'luar', 'biasa', 'coba', 'keakuratan', 'salah'], ['akurat', 'jauh', 'hasil', 'foto', 'sama', 'nama', 'latinnya', 'ataupun', 'lokal', 'banyak', 'menyambung'], ['kira', 'bukan', 'solusi', 'baik', 'tambah', 'pusing', 'coba', 'perbarui', 'lebih', 'baik', 'identifikasi', 'tanamannya'], ['mencoba', 'dikasih', 'kesempatan', 'foto', 'kali', 'semuanya', 'foto', 'tanaman', 'berbeda', 'sayang', 'akurat', 'mohon', 'diperbaiki'], ['ulasan', 'hasil', 'sama', 'selesai', 'penginstalan', 'lalu', 'buka', 'lalu', 'blank', 'hitam', 'nubia', 'lite'], ['baru', 'mencoba', 'tanaman', 'malah', 'putar', 'terus', 'selesai', 'coba', 'malah', 'katanya', 'jatah'], ['sangat', 'menyesal', 'banget', 'aplikasi', 'jelas', 'banget', 'dong', 'batalin', 'soalnya', 'gunakan', 'mengikuti', 'banyak', 'petunjuk', 'tetap', 'gunain', 'aplikasi'], ['lambat', 'meminta', 'ampun', 'malah', 'cepat', 'cari', 'browsing', 'nama', 'lokal', 'terdetek'], ['aduh', 'premium', 'jadi', 'malah', 'salah', 'diteksi', 'nama', 'menyesal', 'premium'], ['coba', 'lima', 'jenis', 'tanaman', 'berbeda', 'semuanya', 'salah', 'identifikasi', 'program', 'perlu', 'penyempurnaan', 'berat'], ['aplikasi', 'diperbaiki', 'jangankan', 'mendeteksi', 'tanaman', 'klik', 'mempan'], ['aplikasi', 'berguna', 'sampah', 'salah', 'identifikasi', 'fatal', 'deteksinya', 'jangan', 'donlot🤢🤮😠'], ['terpaksa', 'uninstal', 'foto', 'tanaman', 'cabe', 'tidakpeduli', 'keluar', 'terus', 'foto', 'tanaman', 'bawang', 'keluar', 'tanaman', 'lidah', 'buaya', 'haha', 'aplikasi', 'tolollllllllll', 'wkwkwkwk'], ['aplikasi', 'bagaimana', 'akurat', 'sama', 'sekali', 'coba', 'bolak', 'balik', 'tetap', 'keliru', 'namanya'], ['keren', 'banget', 'sebelumnya', 'enggaktau', 'bentuk', 'tomat', 'seperti', 'bagaimana', 'berkat', 'aplikasi', 'jadi', 'membedakan', 'tomat', 'cabai'], ['aplikas', 'bodoh', 'sesuai', 'sama', 'sekali', 'jenis', 'identifikasi', 'maaf', 'langsung', 'hapus'], ['percuma', 'download', 'foto', 'tumbuhan', 'benar', 'lalu', 'fungsi', 'aplikasi', 'masak', 'foto', 'pohon', 'singkong', 'jawabanya', 'entah', 'pohon', 'padahal', 'ruas', 'pohon', 'daun', 'jelas', 'pohon'], ['tidak', 'didownload', 'dipakek', 'terjadi', 'kesalahan', 'terus', 'terusan'], ['kurang', 'akurat', 'foto', 'pohon', 'kurma', 'mendeteksi', 'akurat'], ['indentifikasi', 'terlalu', 'lama', 'akurat'], ['mengidentifikasi', 'tahu', 'nama', 'tumbuhan', 'coba', 'kasih', 'jawaban'], ['kenapa', 'digunakan', 'redmi', 'mohon', 'pencerahannya'], ['maaf', 'terlalu', 'sombong', 'judul', 'ternyata', 'akurat', 'sama', 'sekali', 'silakan', 'coba', 'penasaran', 'biar', 'dusta', 'menyesal', 'wkwkwkwkw'], ['kali', 'semua', 'akurat', 'padahal', 'kangkung', 'labu', 'cabai', 'gulma', 'semua', 'valid'], ['waduh', 'paham', 'jenis', 'tumbuhan', 'tanaman', 'kenal', 'jelas', 'salah', 'mengidentifikasikan', 'mohon', 'perbaiki', 'terima', 'kasih🙏'], ['ambil', 'gambar', 'disuruhnya', 'coba', 'sama', 'delet'], ['aplikasi', 'bagus', 'mengetahui', 'ragam', 'jenis', 'tanaman', 'sayang', 'hapus', 'aplikasi', 'akurat'], ['baru', 'tadi', 'mencoba', 'identifikasi', 'hasilnya', 'sangat', 'jauh', 'berbeda☹️☹️☹️'], ['banyak', 'salah', 'mengidentifikasi', 'kurang', 'referensi', 'banyak', 'dimasukan', 'jenis', 'tanaman'], ['kasih', 'jangan', 'download', 'buka', 'diduga', 'pakai', 'data', 'data', 'jancok'], ['membantu', 'ketik', 'nama', 'sesuai', 'prediksi', 'baru', 'tadinya', 'kasih', 'bintang', 'ternyata', 'dijebak', 'kasih', 'bintang', 'baru', 'posting', 'komentar'], ['tingkat', 'akurasinya', 'rendah'], ['bahaya', 'jangan', 'download', 'kena', 'root'], ['apalikasi', 'buka', 'menghabiskan', 'kuota'], ['hari', 'masuk', 'hutan', 'sedikit', 'perbendaharaan', 'pohon'], ['aplikasi', 'anjing', 'lumayan', 'ganti', 'aplikasi', 'buat', 'jenis', 'anjing', 'biar', 'diri', 'kalau', 'memang', 'bakat', 'buat', 'cari', 'jenis', 'tanaman'], ['lama', 'kali', 'indentifikasinya', 'padahal', 'cuma', 'bawang', 'bombay', 'dikupas', 'kulit', 'kuningnya'], ['cocok', 'buat', 'hobi', 'menonton', 'iklan'], ['bagus', 'banget', 'banyak', 'iklan', 'jadi', 'seru', 'anjing'], ['aplikasi', 'bodoh', 'paling', 'bodoh', 'sedunia', 'abal', 'abal', 'mendefenisi', 'jenis', 'bunga', 'daun', 'pohon'], ['paling', 'jelek', 'mudah', 'boongin', 'jujur', 'penipu', 'penipu', 'penipu', 'penipu', 'sorry', 'lupa', 'buang', 'gamutu', 'lebihbagus', 'kamera', 'nokia', 'jadul'], ['aplikasi', 'sangat', 'kecewa', 'download', 'aplikasi'], ['akurat', 'semua', 'salah', 'mengenal', 'jenis', 'tanaman', 'jauh', 'semputna'], ['anjay', 'baru', 'kemarin', 'diupdate', 'hari', 'update'], ['aplikasi', 'kurang', 'bagus', 'akurat'], ['loading', 'lama'], ['sesuai', 'banget', 'daun', 'bougenvil', 'deskripsikan', 'daun', 'cabai', 'rawit', 'daun', 'pucuk', 'merah', 'dikira', 'daun', 'brbagai', 'spesies', 'bamboo'], ['perlu', 'daun', 'jambu', 'rumah', 'dibilang', 'jshe'], ['identifikasi', 'tepat'], ['foto', 'rumput', 'depan', 'rumah', 'malah', 'keluar', 'gambar', 'tanaman', 'enceng', 'gondok'], ['aplikasi', 'mala', 'menyesatkan', 'banyak', 'salah', 'mengidentifikasi', 'tumbuhan', 'kecewa'], ['aplikasi', 'abal', 'abal', 'selalu', 'keliru', 'mengidentifikasi', 'tanaman'], ['kurang', 'bagus', 'masa', 'foto', 'daun', 'kelor', 'keluar', 'penjelasannya', 'tanaman'], ['akurat', 'mendingan', 'jangan', 'pakai'], ['payah', 'ngawur', 'akurat', 'sama', 'sekali'], ['jatahnya', 'potret', 'uninstall'], ['banyak', 'kekurangannya'], ['kurang', 'bermanfaat', 'membantu'], ['mamfaat', 'plantsnap', 'mengetahui'], ['wkwkwkwk', 'apknya', 'selalu', 'salah', 'jawab'], ['mohon', 'maaf', 'atas', 'ketidak', 'sesuaian', 'nama', 'tumbuhan', 'tersebut', 'anjinggggg', 'goblokkkk', 'ashhuuuuu', 'nyeselll', 'sudah', 'downloadd', 'muterrrrrrrrr', 'teroossssss', 'selesai'], ['jelekkkkkk', 'banget', 'ujung', 'ujungnya', 'meminta', 'bayar'], ['keren', 'jadi', 'bedanya', 'sawi', 'sama', 'bayam'], ['aplikasi', 'eggk', 'benar'], ['kontil', 'foto', 'bunga', 'bougenville', 'keluar', 'jlas'], ['buka'], ['tepat', 'hasilny'], ['difoto', 'pohin', 'jawabannya', 'ohin', 'mengaco', 'uninstal'], ['sesuai'], ['tingkatkan'], ['masa', 'tanaman', 'mawar', 'dibilang', 'kembang'], ['pepek', 'aplikasi', 'bermutu'], ['penipuan', 'jauh', 'beda'], ['aplikasi', 'tidak', 'jelas'], ['mengaco', 'akurat'], ['baru', 'pertama', 'indentipikasi', 'sudah', 'salah'], ['😀😀😀😀', 'aplikasi', 'abal', 'masak', 'pohon', 'cabai', 'lengkap', 'buahx', 'dibilang', 'winter', 'jasmin', 'pohon', 'duwet', 'dibilang', 'mangrove'], ['bener', 'aplikasi', 'mengaco'], ['salah', 'semua', 'orang', 'foto', 'anggrek', 'bilang', 'pandan'], ['kurang', 'keren'], ['hasilnya', 'ngasal', 'foto', 'daun', 'bawang', 'malah', 'dibilng', 'monstera'], ['mengaco', 'masa', 'foto', 'daun', 'beringin', 'jadi', 'pohon', 'pisang'], ['aplikasi', 'goblok'], ['jangan', 'donlut'], ['bukan', 'aneka', 'tanaman', 'toga'], ['manfaatnya'], ['mengaco', 'sesuai'], ['salah', 'semua', 'parah'], ['tolol', 'salah', 'semua', 'pepek'], ['sangat', 'buruk'], ['jelas'], ['akurat'], ['kurang', 'cerdas'], ['kecewa'], ['aduh', 'katipu', 'aing', 'sebal'], ['kali', 'moto', 'tanaman', 'terdeteksi'], ['meleset', 'terus'], ['regret', 'download', 'this', 'harus', 'internet', 'connection'], ['jangan', 'didownload', 'aplikasi', 'bohong', 'buang', 'buang', 'kuota'], ['gadanta', 'jangan', 'download', 'menyesal', 'download'], ['woking'], ['aplikasi', 'khusus', 'kota', 'bego', 'kali'], ['hasil', 'sangat', 'bagus'], ['chef', 'juna', 'picik'], ['berguna', 'anjir'], ['force', 'close'], ['error', 'service', 'missing'], ['found', 'what', 'looking'], ['aplikasi', 'busuk'], ['sangat'], ['expectation'], ['sering', 'salah'], ['tahu']]\n"
          ]
        }
      ]
    },
    {
      "cell_type": "code",
      "source": [
        "# Join tokens back to string\n",
        "data_preprocessed = [' '.join(tokens) for tokens in data_stemmed]\n",
        "print(data_preprocessed)\n",
        "#data_steammed berfungsi untuk mengubah data yang awalan array perkata menjadi satu kalimat"
      ],
      "metadata": {
        "colab": {
          "base_uri": "https://localhost:8080/"
        },
        "id": "oMOin2yZGimc",
        "outputId": "8181a1c1-9364-425e-bc8b-8057e9fd305f"
      },
      "execution_count": null,
      "outputs": [
        {
          "output_type": "stream",
          "name": "stdout",
          "text": [
            "['sangat bantu ada aplikasi', 'jual tanam hias baru mulai usaha awal sangat bingung keringat satu nama tanam belanja tanam jual kenal nama lalu coba cari cari aplikasi alhamdulillah temu sini sekarang perlu bingung aktif kamera arah tanam tahu terimakasih plant snap', 'amazing keren gila respectful developer terus kembang jangan patah semangat selaras alam teknologi beli premium salam lestari', 'kalau bilang aplikasi guna mohon pikir jangan andal aplikasi global menganalisa sekitar tinggal indonesia guna aplikasi jalan sesuai harap sepenuh bukan salah aplikasi ingat agam bahasa indonesia buat analisa nama jenis tumbuh aplikasi sepenuh sama nama jenis tumbuh daerah', 'aplikasi canggih sangat bantu buat khusus anak anak lebih cepat tahu jenis tanam pasti beri tambah ilmu sangat guna tahu', 'aplikasi sensor detektor tanam sangat bantu mudah segala khusus kenal ajar jelajah banyak kehiduoan sekitar kita', 'aplikasi bagus banget sangat bantu mahasiswa biologi', 'suka banget aplikasi temu profil lengkap tanam sekitar terima kasih', 'identifikasi arti kamera burik', 'mudah kenal tanam tempat terima kasih', 'muas perlu tingkat durasi pngambilan gambar terimakasih', 'aplikasi sangat bagus ingin banget langgan premium good luck', 'sangat mudah bantu butuh nama tanam koleksi trmkasih', 'koleksi kurang banyak banyak teks', 'guna aplikasi asli pohon pohon maka penuh butuh hidup makin lama makin jangkau mahal kuat', 'sangat bantu buat cinta tanam', 'sangat bantu jadi lebih mudah buat tugas laproan tumbuh obat alhamdulilah nilai farmasi jadi lebih baik', 'bagus sekali tempat jauh kota jaring pakai', 'aplikasi ajar tanam terimakasih semua', 'bantu banget buat cari tanam sekarang fiture sosmednya keren', 'bagus sesuai foto nama tanam', 'sangat bantu buat klasifikasi tanam', 'baik gembira nali tumbuh tumbuh manfaat terima kasih salam hornat', 'sangat jernih fokus keren', 'sangat bantu mengindentifikasi tanam', 'apknya sangat bantu sekali buat referensi', 'aplikasi sangat manfaat terimakasih sukses', 'apps mntap lebih bayak wawas kenal nama tumbuhun', 'suka banget yaampun perlu khawatir kalau ditanyain nenek tanam terlalu jadi pakai segala mudah begini terimakasih luv', 'mantaf aplikasi bantu nali tumbuh bahasa ilmiah yamg mendunka', 'aplikasi bagus kalau main hutan lebih asyik seperti', 'ada apikasi pegetahuan tanam bunga pohon makin tambah', 'langsung bintang mudah mudah bagus', 'mohon tingkat cepat tinggi', 'keren habis kamera mantap benar', 'sangat bantu identifikasi tumbuh sekolah', 'sangat manfaat bantu mahasiswa tani kenal tanam sekitar dketahui nama latin deskripsi', 'sangat bagus tranfer dana semua mudah', 'bagus tambah tahu dunia tanam', 'aplikasi sangat bantu khusus cinta sains', 'sangat manfaat lebih kenal tumbuh amin', 'aplikasi cerdas gemar tanam', 'terimakasih plansnap moga aplikasi guna bantu banyak penguna mengintifikasih bagai tumbuh liar alam guna manfaat tepat', 'bagus aplikasi free bantu ajar tanam', 'aplikasia sangat bagus pertama pikir aplikasi goblok nyata sangat bagus terima kasih', 'mntap harp screnshot simpan komposisi', 'suka aplikasi bantu kenal lebih jauh mahluk cipta tuhan', 'aplikasi sangat manfaat semua orang', 'moga mampat biasa tugas sekolah', 'sangat manfaat akurasi tinggi', 'sangat bantu tahu jenis tumbuh', 'hebat sangat membntu tahu nama tumbuhn', 'simpel cukup hibur', 'sangat bantu suka sekali', 'mantap coba', 'bagus ealau kadang salah tali kesalahnnya sedikit', 'informasi sangat bantu', 'aplikasi sangat bantu identifikasi jenis nama tanam', 'lalu aplikasi mudah identifikasi nama latin bunga', 'kenal tanam lebih akurat', 'bagus tingkat', 'bagus sangat ilmiah', 'opsi ajar biologi tambah', 'syukur ada aplikasi tambah pengeyahuan', 'trimaksih moga manfaat semua', 'dang manfaat tingkat', 'sangat bantu terimakasih', 'lumayan bagus aplikasi', 'sangat bantu cinta botani', 'sangat bantu rekomendasi', 'bagus sangat bantu', 'keren fakta hasil', 'dahsyat deh kasih', 'aplikasi sangat manfaat', 'inspiratif banget aplikasi', 'mantap sangat bantu', 'keren banget terimakasih eksplorasi alam cipta allah makin seru', 'keren sangat bantu', 'pakai erti', 'iklan kurang', 'sangat bantu terimakasih', 'sangat bantu tahu nama tanam', 'sangat sangat sangat manfaat', 'okayy deh mudah nali tanam', 'baru coba bagaimana hasil nanti dikomen deh', 'bagus sekali mantap', 'baru downloads', 'sangat bantu', 'usul tanam herbal biar tahu', 'sangat bantu', 'sangat manfaat', 'sangat manfaat tenk', 'sangat manfaat', 'sangat bagus', 'sangat tarik', 'sangat bantu', 'sangat bantu', 'bagus nama nama pohon', 'sangat bantu', 'sangat bantu', 'sangat manfaat', 'sangat bantu', 'aplikasi hebat', 'sangat bantu', 'plantsnap sangat bantu sekarang baik daripada belum', 'nali nama macam macam tanam', 'sangat bagus', 'coba', 'bagus kembang terus', 'sangat guna', 'sangat membntu', 'coba dulu', 'banyak bantu', 'patut coba', 'bantu kenal tanam', 'buat tau jenis tanam', 'sangat batu', 'guna banget', 'moga manfaat', 'coba besok pagi', 'bantu analisa tanam', 'mantap', 'tambah tahu', 'baik sekali', 'suka sekali', '', 'amazing', '', 'canggih', 'bagus', 'sangat fast', 'sangat good', 'mantap', 'asyik', 'seperti this aplication', 'terimakasih much creator this really appreciate this that bantu pakai herbarium assignment thankyou much', 'sangat praktis', 'valuable useful', 'sip', 'helps identify many species plants although still missidentification presents what difference between this version with version version more accurate then free version', 'keren', 'awesome', 'amazind', 'good experience', 'good', 'bring stars this plant snap apps forward will terimakasih xiaomi officials lthanks plants snap because your apps sangat manis baik apps', '', 'bagos', 'terima kasih', 'apiiikkkk toopppp', '', 'terimakasih pakai project success', 'good', '', 'mantap', 'bagus', 'muas', 'good', '', 'bagus', '', '', 'sangat bagus', 'keren', 'mangthaabb', 'good', 'manis', 'terima kasih sangat manfaat', 'mantap', 'mantapss', '', 'perfect', 'jos', 'vvbbb', 'bagus', 'good i love', 'good', '', 'sip', 'sangat bernanfaat', 'bintang', 'manis', '', 'keren', 'good', 'wooo', '', 'good', '', 'sangat manis sangat good', '', '', 'langsung asih enggak wkwkw', 'jos', 'dulu', 'mantap', 'mantap', 'keren deh', 'baik', 'bagus', 'aplikasi bagus perlu sempurna maksimal akurasi kultur jaring bimbang tentu nama jenis tumbuh terimakasih tunggu penyrmpurnaannya', 'aplikasi bagus nama tanam saran kalau tambah fungsi tanam misal buat obat makan mungkin racun', 'coba puas rena tumbuh depan rumah scan lewat plantsnap nyata beri jelas dapat hasil', 'sangat bantu tambah tahu tumbuh tumbuh bunga', 'analisa salah paling kesal selalu minta diupdate habis waktu quota', 'aplikasi bagus baik biar lebih baik suka banyak orang', 'banyak perlu ppenyempurnaan masak daun telinga kata pisang heheh iklanya buat risih', 'kurang akurat banyak salah coba buat identifikasi beberapa kali namu keliru', 'cukup bantu paham bunga', 'bagus tlong tampil dengan rinci guna tanam biar lebih manfaat', 'iklan sangat ganggu', 'kurang kamera hampir', 'deteksi tepat uninst', 'baru pasang aplikadi jadi lihat dulu kalau bagus tambah bintang', 'harap kali lebih rinci aplikasi snap binatang', 'kadang tepat kadang banyak tepat', 'identifikasi tanam liar pakai premium', 'dong kasih nama umum jangan nama latinnya doang', 'lumayan bantu akurat', 'baru install hasil bagus tambah bintang', 'sangat bantu identifikasi bunga tanam kenal', 'baru instal bagus beri bintang', 'moga manfaat jangan boros kuota', 'dulu nanti kalau bagus tambah', 'coba dulu kalau ribet bayar tambah bintang', 'nama indonesia', 'lumayan bagus kurang akurat', 'kadang tumbuh sesuai', 'kasih bintang kalau bagus tamba bintang', 'indonesia', 'coba dulu bagus kasih bintang', 'bravo tingkat sangat bguna buat generasi sekarang datang', 'kasih betul bagus baru kasih bintang', 'dulu nanti tambah', 'dulu good baru', 'kurang identifikasi tanam', 'dulu bagus tambah', 'guru biologi cocok banget', 'lumayan bagus', 'sangat bantu', 'coba aplikasi', 'tingkatkn', 'baru kenal jadi kasih bintang dulu', 'lumayan bagus', 'coba dulu', 'baru mulai mulai sekarang', 'kocak poto kontol keluar jamur', 'kasih bintang dulu', 'moga bagus', 'bagus sekali', 'kasih dulu', 'bintang dulu', 'coba dulu terimakasih', 'coba dulu', 'coba', 'coba dulu', 'moga manfaat', 'coba dulu', '', 'kurang akurat', 'upload pictures when open quota photo before take gambar', 'forceclose phone asus zenfone', 'cukup bagus', 'bintang disik', 'after update sangat long waktu result', 'memang', '', 'coba dulu', 'coba dulu', 'bagus', 'bagus', 'kurang cepat', 'kurang jelas', '', 'coba dulu', '', 'translate bahasa indonesia deskripsi tanam menu beranda bahasa indonesia', 'coba dulu bagus tambah bintang', 'baru coba kalau tahan kalau hapus xixixixxixi', 'coba hela alus', 'pernah lihat', 'biasa', 'lihat', 'sangat suka', 'coba dulu', 'coba', 'baru coba', 'coba dulu', '', 'coba dulu', 'coba', '', '', 'coba', 'good', 'cukuo', 'netral', 'mantapbetul', 'bagus', 'lumayan', 'terimakasih', 'ranting besar sorry coba deteksi beberapa tumbuh hasil tepat sama sekali baik', 'kembang perlu teliti lebih rinci bintang cvkup usaha luar biasa coba akurat salah', 'akurat jauh hasil foto sama nama latinnya atau lokal banyak sambung', 'kira bukan solusi baik tambah pusing coba baru lebih baik identifikasi tanam', 'coba kasih sempat foto kali semua foto tanam beda sayang akurat mohon baik', 'ulas hasil sama selesai penginstalan lalu buka lalu blank hitam nubia lite', 'baru coba tanam malah putar terus selesai coba malah kata jatah', 'sangat sesal banget aplikasi jelas banget dong batalin soal guna ikut banyak tunjuk tetap gunain aplikasi', 'lambat minta ampun malah cepat cari browsing nama lokal terdetek', 'aduh premium jadi malah salah teks nama sesal premium', 'coba lima jenis tanam beda semua salah identifikasi program perlu sempurna berat', 'aplikasi baik jangan deteksi tanam klik mempan', 'aplikasi guna sampah salah identifikasi fatal deteksi jangan donlot', 'paksa uninstal foto tanam cabe tidakpeduli keluar terus foto tanam bawang keluar tanam lidah buaya haha aplikasi tolollllllllll wkwkwkwk', 'aplikasi bagaimana akurat sama sekali coba bolak balik tetap keliru nama', 'keren banget belum enggaktau bentuk tomat seperti bagaimana berkat aplikasi jadi beda tomat cabai', 'aplikas bodoh sesuai sama sekali jenis identifikasi maaf langsung hapus', 'percuma download foto tumbuh benar lalu fungsi aplikasi masak foto pohon singkong jawabanya entah pohon padahal ruas pohon daun jelas pohon', 'tidak didownload dipakek jadi salah terus terus', 'kurang akurat foto pohon kurma deteksi akurat', 'indentifikasi terlalu lama akurat', 'identifikasi tahu nama tumbuh coba kasih jawab', 'kenapa guna redmi mohon cerah', 'maaf terlalu sombong judul nyata akurat sama sekali sila coba penasaran biar dusta sesal wkwkwkwkw', 'kali semua akurat padahal kangkung labu cabai gulma semua valid', 'waduh paham jenis tumbuh tanam kenal jelas salah identifikasi mohon baik terima kasih', 'ambil gambar suruh coba sama delet', 'aplikasi bagus tahu ragam jenis tanam sayang hapus aplikasi akurat', 'baru tadi coba identifikasi hasil sangat jauh beda', 'banyak salah identifikasi kurang referensi banyak masuk jenis tanam', 'kasih jangan download buka duga pakai data data jancok', 'bantu ketik nama sesuai prediksi baru tadi kasih bintang nyata jebak kasih bintang baru posting komentar', 'tingkat akurasi rendah', 'bahaya jangan download kena root', 'apalikasi buka habis kuota', 'hari masuk hutan sedikit bendahara pohon', 'aplikasi anjing lumayan ganti aplikasi buat jenis anjing biar diri kalau memang bakat buat cari jenis tanam', 'lama kali indentifikasinya padahal cuma bawang bombay kupas kulit kuning', 'cocok buat hobi tonton iklan', 'bagus banget banyak iklan jadi seru anjing', 'aplikasi bodoh paling bodoh dunia abal abal mendefenisi jenis bunga daun pohon', 'paling jelek mudah boongin jujur tipu tipu tipu tipu sorry lupa buang gamutu lebihbagus kamera nokia jadul', 'aplikasi sangat kecewa download aplikasi', 'akurat semua salah kenal jenis tanam jauh semputna', 'anjay baru kemarin diupdate hari update', 'aplikasi kurang bagus akurat', 'loading lama', 'sesuai banget daun bougenvil deskripsi daun cabai rawit daun pucuk merah kira daun brbagai spesies bamboo', 'perlu daun jambu rumah bilang jshe', 'identifikasi tepat', 'foto rumput depan rumah malah keluar gambar tanam enceng gondok', 'aplikasi mala sesat banyak salah identifikasi tumbuh kecewa', 'aplikasi abal abal selalu keliru identifikasi tanam', 'kurang bagus masa foto daun kelor keluar jelas tanam', 'akurat mending jangan pakai', 'payah ngawur akurat sama sekali', 'jatah potret uninstall', 'banyak kurang', 'kurang manfaat bantu', 'mamfaat plantsnap tahu', 'wkwkwkwk apknya selalu salah jawab', 'mohon maaf atas tidak sesuai nama tumbuh sebut anjinggggg goblokkkk ashhuuuuu nyeselll sudah downloadd muterrrrrrrrr teroossssss selesai', 'jelekkkkkk banget ujung ujung minta bayar', 'keren jadi beda sawi sama bayam', 'aplikasi eggk benar', 'kontil foto bunga bougenville keluar jlas', 'buka', 'tepat hasilny', 'foto pohin jawab ohin aco uninstal', 'sesuai', 'tingkat', 'masa tanam mawar bilang kembang', 'pepek aplikasi mutu', 'tipu jauh beda', 'aplikasi tidak jelas', 'aco akurat', 'baru pertama indentipikasi sudah salah', 'aplikasi abal masak pohon cabai lengkap buahx bilang winter jasmin pohon duwet bilang mangrove', 'bener aplikasi aco', 'salah semua orang foto anggrek bilang pandan', 'kurang keren', 'hasil ngasal foto daun bawang malah dibilng monstera', 'aco masa foto daun beringin jadi pohon pisang', 'aplikasi goblok', 'jangan donlut', 'bukan aneka tanam toga', 'manfaat', 'aco sesuai', 'salah semua parah', 'tolol salah semua pepek', '', 'sangat buruk', 'jelas', 'akurat', 'kurang cerdas', 'kecewa', 'aduh katipu aing sebal', 'kali moto tanam deteksi', 'meleset terus', 'dulu', 'regret download this harus internet connection', 'jangan didownload aplikasi bohong buang buang kuota', 'gadanta jangan download sesal download', 'woking', 'aplikasi khusus kota bego kali', 'hasil sangat bagus', 'chef juna picik', 'guna anjir', 'force close', 'error service missing', 'found what looking', 'aplikasi busuk', 'sangat', 'jelas', 'expectation', 'sering salah', 'tahu', 'keren', 'mantap']\n"
          ]
        }
      ]
    },
    {
      "cell_type": "code",
      "source": [
        "# Feature Extraction with TFIdf\n",
        "from sklearn.feature_extraction.text import TfidfVectorizer\n",
        "\n",
        "vectorizer = TfidfVectorizer()\n",
        "X = vectorizer.fit_transform(data_preprocessed)\n",
        "y = dframe['score']"
      ],
      "metadata": {
        "id": "fij3mducGm2P"
      },
      "execution_count": null,
      "outputs": []
    },
    {
      "cell_type": "code",
      "source": [
        "import pickle\n",
        "pickle.dump(vectorizer, open(\"cobaa.pickle\", \"wb\"))"
      ],
      "metadata": {
        "id": "SY7b1t5qAX0Z"
      },
      "execution_count": null,
      "outputs": []
    },
    {
      "cell_type": "code",
      "source": [
        "from sklearn.model_selection import train_test_split\n",
        "from sklearn.metrics import accuracy_score,classification_report\n",
        "\n",
        "\n",
        "X_train, X_test, y_train, y_test = train_test_split(X, y, test_size=0.2, random_state=42)"
      ],
      "metadata": {
        "id": "BBzdHmNzGqrZ"
      },
      "execution_count": null,
      "outputs": []
    },
    {
      "cell_type": "code",
      "source": [
        "from sklearn.neighbors import KNeighborsClassifier\n",
        "\n",
        "knn = KNeighborsClassifier(n_neighbors=5)  # tentukan jumlah tetangga (K)\n",
        "knn.fit(X_train, y_train)\n",
        "\n",
        "# Prediksi data uji\n",
        "knn_y_pred = knn.predict(X_test)\n",
        "\n",
        "# Evaluasi model\n",
        "accuracy = accuracy_score(y_test, knn_y_pred)\n",
        "print(f'Akurasi model KNN: {accuracy:.2f}')\n",
        "\n",
        "report_knn = classification_report(y_test, knn_y_pred)\n",
        "print ('report : ' +str(report_knn))"
      ],
      "metadata": {
        "colab": {
          "base_uri": "https://localhost:8080/"
        },
        "id": "2uLslaGjGvli",
        "outputId": "ba1be1c1-a3a4-4a0e-9a14-c7e897601ea2"
      },
      "execution_count": null,
      "outputs": [
        {
          "output_type": "stream",
          "name": "stdout",
          "text": [
            "Akurasi model KNN: 0.60\n",
            "report :               precision    recall  f1-score   support\n",
            "\n",
            "           1       0.50      0.04      0.08        23\n",
            "           3       0.86      0.35      0.50        17\n",
            "           5       0.57      0.98      0.72        44\n",
            "\n",
            "    accuracy                           0.60        84\n",
            "   macro avg       0.64      0.46      0.43        84\n",
            "weighted avg       0.61      0.60      0.50        84\n",
            "\n"
          ]
        }
      ]
    },
    {
      "cell_type": "code",
      "source": [
        "from sklearn import svm\n",
        "\n",
        "# Inisialisasi dan latih model SVM\n",
        "svm = svm.SVC(kernel='linear')\n",
        "svm.fit(X_train, y_train)\n",
        "\n",
        "# Prediksi data uji\n",
        "y_pred = svm.predict(X_test)\n",
        "\n",
        "# Evaluasi model\n",
        "accuracy = accuracy_score(y_test, y_pred)\n",
        "print(f'Akurasi model SVM: {accuracy:.2f}')\n",
        "\n",
        "report = classification_report(y_test, y_pred)\n",
        "print ('report : ' +str(report))"
      ],
      "metadata": {
        "colab": {
          "base_uri": "https://localhost:8080/"
        },
        "id": "dsroyA8FG0ga",
        "outputId": "2cc30829-4c7e-41bf-cc31-83feff7670a7"
      },
      "execution_count": null,
      "outputs": [
        {
          "output_type": "stream",
          "name": "stdout",
          "text": [
            "Akurasi model SVM: 0.70\n",
            "report :               precision    recall  f1-score   support\n",
            "\n",
            "           1       0.75      0.52      0.62        23\n",
            "           3       0.78      0.41      0.54        17\n",
            "           5       0.68      0.91      0.78        44\n",
            "\n",
            "    accuracy                           0.70        84\n",
            "   macro avg       0.74      0.61      0.64        84\n",
            "weighted avg       0.72      0.70      0.68        84\n",
            "\n"
          ]
        }
      ]
    },
    {
      "cell_type": "code",
      "source": [
        "import pickle\n",
        "\n",
        "# Save the model\n",
        "with open('reviews.pickle', 'wb') as file:\n",
        "    pickle.dump(data_preprocessed, file)\n",
        "\n",
        "print(\"Model saved successfully.\")"
      ],
      "metadata": {
        "colab": {
          "base_uri": "https://localhost:8080/"
        },
        "id": "z2cZ0EhzH17C",
        "outputId": "f20d51f4-b80b-49c1-b5d7-43aee3e67a6c"
      },
      "execution_count": null,
      "outputs": [
        {
          "output_type": "stream",
          "name": "stdout",
          "text": [
            "Model saved successfully.\n"
          ]
        }
      ]
    },
    {
      "cell_type": "code",
      "source": [
        "\n",
        "\n",
        "import pickle\n",
        "\n",
        "# Save the model\n",
        "with open('svm_model.pkl', 'wb') as file:\n",
        "    pickle.dump(svm, file)\n",
        "\n",
        "print(\"Model saved successfully.\")\n",
        "\n"
      ],
      "metadata": {
        "colab": {
          "base_uri": "https://localhost:8080/"
        },
        "id": "7KCIpJtvG6W0",
        "outputId": "d51f03d1-109a-42b0-9e2a-ab433efd968a"
      },
      "execution_count": null,
      "outputs": [
        {
          "output_type": "stream",
          "name": "stdout",
          "text": [
            "Model saved successfully.\n"
          ]
        }
      ]
    }
  ]
}